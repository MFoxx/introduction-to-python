{
 "cells": [
  {
   "cell_type": "markdown",
   "metadata": {},
   "source": [
    "# Cvičenie 9: Postavy v 2D svete\n",
    "\n",
    "V simuláciach často potrebujeme namodelovať pohyb rôznych aktérov v dvojdimenzionálnom svete, pomocou ktorého je možné popísať niekoľko javov. Na ďalšom cvičení sa spustíme do jednej takej simulácie, zatiaľ ale pripravíme náš rámec pre takéto simulácie tak, že vytvoríme model dvojdimenzionálneho sveta a umiestnime doňho niekoľko aktérov."
   ]
  },
  {
   "cell_type": "markdown",
   "metadata": {},
   "source": [
    "Model sa skladá z niekoľkých konceptov, a to konkrétne:\n",
    "* trieda `Actor`, ktorá zastrešuje reprezentáciu aktérov s rôznymi vlastnosťami a definuje spoločnú funkcionalitu;\n",
    "* pomocná trieda `Location`, ktorá bude reprezentovať polohu aktéra;\n",
    "* trieda `Direction` pre reprezentáciu pohybu a pre výpočet aktualizovanej polohy.\n",
    "\n",
    "[Stiahnite si kostru riešenia](sources/lab09/lab09.zip) alebo pracujte v tomto notebooku. Našu implementáciu začneme práve s pomocnými triedami."
   ]
  },
  {
   "cell_type": "markdown",
   "metadata": {},
   "source": [
    "## Krok 1: Poloha\n",
    "\n",
    "Pred tým, než zadefinujeme našich aktérov, vytvoríme pomocné triedy pre reprezentáciu ich polohy a pohybu v priestore. Ako prvé sa pozrieme na triedu `Location`, ktorá bude reprezentovať bod v dvojrozmernom svete.\n",
    "\n",
    "Body budeme reprezentovať dvomi súradnicovými hodnotami `x` a `y`, tie uložíme ako členské premenné v konštruktore.\n",
    "\n",
    "Trieda ďalej obsahuje metódy:\n",
    "\n",
    "* `move`, ktorá dostane ako parametre zmeny x-ovej a y-ovej súradnicovej hodnoty a vráti novú polohu (objekt typu `Location`) s aktualizovanými hodnotami (pripočíta sa zmena po osi);\n",
    "* metóda `get_coords` vráti x-ové a y-ové súradnicové hodnoty bodu (v zmysle enkapsulácie);\n",
    "* metóda `get_distance` vypočíta vzdialenosť medzi dvomi bodmi v dvojrozmernom priestore pomocou Pytagorovej vety.\n",
    "\n",
    "**Úloha:** Doplňte implementáciu metód podľa popisov."
   ]
  },
  {
   "cell_type": "code",
   "execution_count": 1,
   "metadata": {},
   "outputs": [],
   "source": [
    "class Location:\n",
    "    def __init__(self, x, y):\n",
    "        pass\n",
    "\n",
    "    def move(self, dx, dy):\n",
    "        return\n",
    "\n",
    "    def get_coords(self):\n",
    "        return\n",
    "\n",
    "    def get_distance(self, other):\n",
    "        return"
   ]
  },
  {
   "cell_type": "markdown",
   "metadata": {},
   "source": [
    "## Krok 2: Pohyb\n",
    "\n",
    "Druhá pomocná trieda sa nazýva `Direction` a nájdete ju v súbore `direction.py`. Táto trieda reprezentuje smer pohybu, a použijeme ju pri výpočte zmeny polohy. Potrebujeme ju pre získanie zmeny polohy po x-ovej a y-ovej osi (použijeme ich ako parametre pri volaní metódy `move` v triede `Location`). Smer pohybu bude definovaný uhlom $\\theta$, pričom pre reprezentáciu použijeme radiány.\n",
    "\n",
    "![Jednotková kružnica](https://www.mathwarehouse.com/unit-circle/images/unit-circle-general-formula-graph.png)\n",
    "\n",
    "**Úloha:** Opravte konštruktor tak, aby uhol normalizoval na hodnotu v intervale $<0, 2\\pi>$. Následne implementujte metódu `move`, ktorá ako parameter (`dist`) dostane vzdialenosť, ktorú daný aktér prekoná jedným krokom (polomer kružnice). Funkcia vracia jednu dvojicu hodnôt, ktorá obsahuje zmenu po x-ovej a po y-ovej súradnici. Použite pritom sínus a kosínus uhla `self.angle`."
   ]
  },
  {
   "cell_type": "code",
   "execution_count": null,
   "metadata": {},
   "outputs": [],
   "source": [
    "class Direction:\n",
    "    def __init__(self, angle):\n",
    "        # angle is given in radians\n",
    "        # TODO: set angle, and normalize it for range <0, 2pi>\n",
    "        self.angle = angle\n",
    "\n",
    "    def move(self, dist):\n",
    "        # TODO: return difference in x and y values based on angle\n",
    "        return (-1, -1)\n",
    "\n",
    "    def get_angle(self):\n",
    "        return self.angle"
   ]
  },
  {
   "cell_type": "markdown",
   "metadata": {},
   "source": [
    "## Krok 3: Postavy v priestore\n",
    "\n",
    "V ďalšom kroku potrebujeme vytvoriť všeobecnú reprezentáciu aktéra v priestore. K tomu slúži trieda `Actor` (v súbore `actor.py`), ktorá obsahuje prázdne implementácie niekoľkých metód. V tomto kroku doimplementujeme niektoré metódy a to nasledovne:\n",
    "\n",
    "* konštruktor - vytvorte štruktúru triedy, zadefinujte členské premenné a nastavte ich hodnoty podľa parametrov: aktér bude reprezentovaný cez svoje meno, rýchlosť a pozíciu (použite triedu `Location`);\n",
    "* `set_field`: pridávanie aktéra do priestoru, zatiaľ ostáva prázdna, využijeme ju na ďalšom cvičení;\n",
    "* `move`: pohyb aktéra, zatiaľ zadefinujte náhodný pohyb aktéra v ľubovoľnom smere, jednotlivé podtriedy ju budú bližšie špecifikovať;\n",
    "* `get_coords`: vráti x-ovú a y-ovú súradnicu aktéra ako dvojicu hodnôt;\n",
    "* `get_location`: vráti pozíciu aktéra ako objekt typu `Location`.\n",
    "\n",
    "V metóde `move` potrebujeme vykonať nasledujúce kroky:\n",
    "\n",
    "1. vygenerovať náhodný uhol (bude reprezentovať smer pohybu)\n",
    "2. vytvoriť reprezentáciu smeru pohybu (inštancia triedy `Direction`)\n",
    "3. vypočítať zmenu x-ovej a y-ovej súradnice\n",
    "4. aktualizovať polohu aktéra"
   ]
  },
  {
   "cell_type": "code",
   "execution_count": null,
   "metadata": {},
   "outputs": [],
   "source": [
    "class Actor:\n",
    "    def __init__(self, name, speed, x, y):\n",
    "        pass\n",
    "\n",
    "    def set_field(self, field):\n",
    "        pass\n",
    "\n",
    "    def move(self):\n",
    "        pass\n",
    "\n",
    "    def get_coords(self):\n",
    "        return\n",
    "\n",
    "    def get_location(self):\n",
    "        return"
   ]
  },
  {
   "cell_type": "markdown",
   "metadata": {},
   "source": [
    "## Krok 4: Vizualizácia aktérov\n",
    "\n",
    "V súbore `main.py` nájdete krátky kód pre vizualizáciu pohybu aktéra v dvojrozmernom priestore cez knižnicu `matplotlib`. Prečítajte si kód s cieľom pochopiť jeho fungovanie a následne ho spustite pre testovanie vášho riešenia. Ak všetko ste implementovali správne, tak vo vizualizácii uvidíte náhodne sa pohybujúci modrý bod v 2D priestore, ktorý urobí 1000 krokov."
   ]
  },
  {
   "cell_type": "code",
   "execution_count": null,
   "metadata": {},
   "outputs": [],
   "source": [
    "import random\n",
    "from time import sleep\n",
    "\n",
    "import matplotlib.pyplot as plt\n",
    "\n",
    "from actor import Actor\n",
    "\n",
    "\n",
    "def visualize():\n",
    "    human_x = random.randint(-50, 50)\n",
    "    human_y = random.randint(-50, 50)\n",
    "    actor = Actor(\"Janko Hrasko\", 1, human_x, human_y)\n",
    "\n",
    "    plt.ion()\n",
    "    fig = plt.figure()\n",
    "    ax = fig.add_subplot(111)\n",
    "    ax.set_xlim([-100, 100])\n",
    "    ax.set_ylim([-100, 100])\n",
    "\n",
    "    actor_pos = actor.get_coords()\n",
    "\n",
    "    actor_plot_point, = ax.plot(actor_pos, 'bo')\n",
    "    fig.canvas.draw()\n",
    "    fig.canvas.flush_events()\n",
    "\n",
    "    for _ in range(1000):\n",
    "        actor_pos = actor.get_coords()\n",
    "\n",
    "        actor_plot_point.set_xdata(actor_pos[0])\n",
    "        actor_plot_point.set_ydata(actor_pos[1])\n",
    "\n",
    "        fig.canvas.draw()\n",
    "        fig.canvas.flush_events()\n",
    "\n",
    "        sleep(0.1)\n",
    "\n",
    "\n",
    "if __name__ == '__main__':\n",
    "    visualize()"
   ]
  }
 ],
 "metadata": {
  "kernelspec": {
   "display_name": "Python 3",
   "language": "python",
   "name": "python3"
  },
  "language_info": {
   "codemirror_mode": {
    "name": "ipython",
    "version": 3
   },
   "file_extension": ".py",
   "mimetype": "text/x-python",
   "name": "python",
   "nbconvert_exporter": "python",
   "pygments_lexer": "ipython3",
   "version": "3.7.3"
  }
 },
 "nbformat": 4,
 "nbformat_minor": 2
}
