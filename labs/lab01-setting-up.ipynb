{
 "cells": [
  {
   "cell_type": "markdown",
   "metadata": {},
   "source": [
    "# Cvičenie 1: Nastavenie programátorského prostredia"
   ]
  },
  {
   "cell_type": "markdown",
   "metadata": {},
   "source": [
    "Pred tým než začneme programovať, je potrebné, aby sme si pripravili programátorské prostredie. Najnovšia verzia Pythonu je 3.10, [ktorá je dostupná tu](https://www.python.org/downloads/). Je to ale pomerne nová verzia jazyka (vyšla v októbri 2021) a kvôli tomu veľa knižníc ešte nebolo aktualizovaných pre túto verziu. Práve preto na tomto predmete budeme používať verziu Python **3.9**. Medzi dvoma verziami nie je veľký rozdiel ([zoznam noviniek nájdete tu](https://docs.python.org/3/whatsnew/3.10.html)).\n",
    "\n",
    "[Python 3.9 si môžete stiahnuť tu](https://www.python.org/downloads/release/python-3910/), avšak vzhľadom na vaše ďalšie štúdium, kde budete používať nielen samotný Python ale aj doplnkové knižnice, odporúčame nainštalovať si špeciálnu distribúciu Pythonu, a to [Anacondu](https://www.anaconda.com). Anaconda je platforma pre podporu dátovej vedy a strojového učenia a v sebe obsahuje okrem základného Pythonu aj najčastejšie používané knižnice ako *numpy*, *pandas*, *matplotlib* a *scikit-learn*, z ktorých niektoré použijeme počas semestra aj my.\n",
    "\n",
    "Vzhľadom na to, že na predmete budeme používať najmä základnú funkcionalitu jazyka, ak máte nainštalovanú inú verziu Pythonu 3, môžete používať ju - odporúča sa ale minimálne verzia **3.8**."
   ]
  },
  {
   "cell_type": "markdown",
   "metadata": {},
   "source": [
    "## Krok 1: Inštalácia Anacondy"
   ]
  },
  {
   "cell_type": "markdown",
   "metadata": {},
   "source": [
    "Najnovšiu verziu Anacondy (s Pythonom 3.9) [nájdete tu](https://www.anaconda.com/products/individual). Vyberte si inštalačný súbor pre váš operačný systém a postupujte podľa inštrukcií inštalácie. [Podrobné návody pre jednotlivé operačné systémy nájdete tu](https://docs.anaconda.com/anaconda/install/). Ak používate Windows OS, odporúčame počas inštalácie pridať cestu k inštalácii Anacondy do zoznamu systémových premenných.\n",
    "\n",
    "<img src=\"sources/lab01/anaconda_installation.jpg\" width=\"400\">"
   ]
  },
  {
   "cell_type": "markdown",
   "metadata": {},
   "source": [
    "Po ukončení inštalácie jej úspešnosť môžete skontrolovať cez príkazový riadok (alebo terminál) zadaním príkazu `python --version`. Mal by sa zobraziť výpis typu `Python 3.9.X`. Anaconda takisto má vlastný príkazový riadok Anaconda Prompt, kde môžete interagovať priamo s inštaláciou.\n",
    "\n",
    "Anaconda ďalej umožňuje vytvorenie virtuálnych prostredí, kde môžete mať rôzne verzie Pythonu, nainštalovať knižnice a upraviť nastavenia prostredia bez toho, aby ste zmenili samotnú inštaláciu Pythonu. Podrobný návod k virtuálnym prostrediam je dostupný na [web stránke Anacondy](https://docs.conda.io/projects/conda/en/latest/user-guide/tasks/manage-environments.html).\n",
    "\n",
    "Ak počas semestra alebo pri riešení zadaní a vlastných projektov potrebujete nainštalovať nové knižnice, môžete tak urobiť zadaním príkazu `pip install NAZOV` alebo `conda install NAZOV` v príkazovom riadku, resp. v Anaconda Prompte."
   ]
  },
  {
   "cell_type": "markdown",
   "metadata": {},
   "source": [
    "## Krok 2: Inštalácia vývojového prostredia (IDE)\n",
    "\n",
    "Na internete nájdete veľký počet vývojových prostredí s podporou Pythonu, z nich si vyberte podľa vlastných skúseností a preferencií. Samotná Anaconda obsahuje takéto prostredie s menom Spyder. Na konci inštalácie Anacondy máte takisto možnosť nainštalovať [PyCharm](https://www.jetbrains.com/pycharm/), ktorý je dostupný zadarmo v Community Version. Vývoj programov v Pythone podporuje aj [Visual Studio Code](https://code.visualstudio.com).\n",
    "\n",
    "Jedno z viacplatformových prostredí pre podporu rôznych jazykov je [Sublime Text](https://www.sublimetext.com/3). Sublime Text môžete používať bezplatne, avšak po niekoľkých uloženiach editovaného súboru vám vyskočí dialógové okno s ponukou nákupu plnej verzie. Anaconda ponúka rozšírenie pre Sublime Text pre rozšírené editovanie pythonovských súborov, balík Anaconda. [Inštalačný manuál nájdete tu](https://docs.anaconda.com/anaconda/user-guide/tasks/integration/sublime/)."
   ]
  },
  {
   "cell_type": "markdown",
   "metadata": {},
   "source": [
    "## Krok 3: Práca s Jupyterom\n",
    "\n",
    "Počas tohto semestra cvičenia budú pripravené vo forme Jupyter notebookov. Jupyter je platforma pre interaktívne programovanie a je súčasťou distribúcie Anaconda. Pre prácu s týmito notebookmi si stiahnite súbory z cvičenia (súbor typu `.ipynb`) a otvorte ju cez **Anaconda Prompt** a to nasledovne:\n",
    "\n",
    "1. navigujte do priečinku, kde máte uložený notebook pomocou príkazu `cd`\n",
    "2. zadajte príkaz jupyter notebook\n",
    "  <img src=\"sources/lab01/jupyter1.jpg\" width=\"600\">\n",
    "3. v prehliadači sa vám zobrazí zoznam všetkých notebookov v danom adresári; tu máte aj možnosť vytvoriť nové notebooky\n",
    "  <img src=\"sources/lab01/jupyter2.jpg\" width=\"600\">\n",
    "4. kliknite na vybraný súbor, ktorý sa otvorí na osobitnej karte\n",
    "  <img src=\"sources/lab01/jupyter3.jpg\" width=\"600\">\n",
    "5. v notebooku môžete editovať a spustiť ľubovoľné bloky kódu, ako napríklad nasledujúci blok:"
   ]
  },
  {
   "cell_type": "code",
   "execution_count": null,
   "metadata": {},
   "outputs": [],
   "source": [
    "print(\"Hello World!\")"
   ]
  },
  {
   "cell_type": "markdown",
   "metadata": {},
   "source": [
    "Samozrejme kódy môžete písať aj v `.py` súboroch, zadania a všetky domáce úlohy budete odovzdávať takýmto spôsobom."
   ]
  },
  {
   "cell_type": "markdown",
   "metadata": {},
   "source": [
    "## Krok 4: Kontrola inštalácie\n",
    "\n",
    "Najprv si vyskúšajte prácu s Jupyter notebookom a to nasledovne:\n",
    "\n",
    "1. stiahnite si súbor `lab01-setting-up.ipynb` z gitu\n",
    "2. otvorte súbor na vašom počítači pomocou Jupytera (viď Krok 3)\n",
    "3. kliknite na tlačidlo pre spustenie bloku s kódom `print(\"Hello World!\")` vyššie (možnosť spustenia môžete nájsť aj v hornom menu - tlačidlo `Run`, alebo stačí použiť kombináciu `Shift + Enter` po kliknutí na blok kódu)\n",
    "  <img src=\"sources/lab01/hello-world.jpg\" width=\"600\">\n",
    "4. ak ste všetko nainštalovali v poriadku, na výstup bloku sa vypíše reťazec `Hello World!`\n",
    "  <img src=\"sources/lab01/hello-world-final.jpg\" width=\"600\">"
   ]
  },
  {
   "cell_type": "markdown",
   "metadata": {},
   "source": [
    "Programovanie si vyskúšame aj písaním Python skriptu, pričom postupujte nasledovne:\n",
    "\n",
    "1. otvorte vami zvolené programátorské prostredie (viď Krok 2)\n",
    "2. vytvorte nový súbor (typu `.py`) alebo projekt\n",
    "3. do skriptu napíšte jediný riadok kódu: `print(\"Hello world!\")`\n",
    "4. vytvorený súbor uložte a spustite\n",
    "  * cez IDE\n",
    "  * dvojklikom na uložený súbor\n",
    "  * alebo cez príkazový riadok príkazom `python nazov_suboru.py` v priečinku so súborom"
   ]
  }
 ],
 "metadata": {
  "kernelspec": {
   "display_name": "Python 3",
   "language": "python",
   "name": "python3"
  },
  "language_info": {
   "codemirror_mode": {
    "name": "ipython",
    "version": 3
   },
   "file_extension": ".py",
   "mimetype": "text/x-python",
   "name": "python",
   "nbconvert_exporter": "python",
   "pygments_lexer": "ipython3",
   "version": "3.8.5"
  }
 },
 "nbformat": 4,
 "nbformat_minor": 2
}
