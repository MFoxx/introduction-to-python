{
 "cells": [
  {
   "cell_type": "markdown",
   "metadata": {},
   "source": [
    "# Cvičenie 11: Nastupujte, prosím!\n",
    "\n",
    "Každý, kto cestuje lietadlom zažije pocit pri odletovej bráne, že rad na lietadlo sa vôbec nepohne a určite musí existovať rýchlejší spôsob nastupovania cestujúcich. Na tomto cvičení porovnáme rôzne možnosti nástupu pasažierov do lietadla a vyhodnotíme, ktorá z nich je najrýchlejšia pomocou simulácií. Pre jednoduchosť už budeme mať vytvorený model lietadla aj pohyb pasažierov, sústredíme sa teda na optimálny spôsob pustenia ľudí na lietadlo. Pre lepšie pochopenie úlohy si môžete pozrieť [video na kanáli CGP Grey](https://www.youtube.com/watch?v=oAHbLRjF0vo), ktoré bolo inšpiráciou cvičenia."
   ]
  },
  {
   "cell_type": "markdown",
   "metadata": {},
   "source": [
    "## Krok 1: Oboznámenie sa s kódom\n",
    "\n",
    "[Stiahnite si predpripravené riešenie s niekoľkými už implementovanými triedami.](sources/lab11/lab11.zip) V riešení nájdete štyri súboru, z ktorých tri sú už plne implementované. Najprv sa oboznámte s kódom, pričom simulácia bude používať nasledujúce modely:\n",
    "\n",
    "* `Passenger` (v súbore `passenger.py`) - trieda reprezentuje jedného cestujúceho s prideleným miestom a batožinou;\n",
    "* `Plane` (v súbore `plane.py`) - trieda reprezentuje lietadlo s určenou dĺžkou. Lietadlo budeme reprezentovať ako zoznam zoznamov, napr. takto:\n",
    "\n",
    "![](sources/lab11/plane.jpg)\n",
    "\n",
    "kde stredný prázdny riadok je chodba a dva krajné stĺpce (označené X) sú iba pomocné stĺpce a zjednodušujú simuláciu. Na každej pozícii v tomto poli bude zoznam cestujúcich, ktorí sa nachádzajú na danej pozícii. **Pozor:** pri reprezentácii lietadla pomocou dvojrozmerného poľa sú v riadkoch sedadlá s rovnakým písmenom, rady sedadiel sú vo stĺpcoch!\n",
    "\n",
    "* `Boarding` a jeho podtriedy (v súbore `boarding.py`) - prázdne implementácie tried reprezentujúcich spôsob nastupovania do lietadla. Spôsob bude definovaný poradím pridávania pasažierov na štartovaciu pozíciu v lietadle. Trieda `Boarding` definuje všeobecnú funkcionalitu, podtriedy špecifikujú už konkrétny spôsob nastupovania, resp. pridávania cestujúcich do lietadla."
   ]
  },
  {
   "cell_type": "markdown",
   "metadata": {},
   "source": [
    "### 1.1 `globals.py`\n",
    "\n",
    "Súbor `globals.py` obsahuje iba dve pomocné premenné pre jednoduchý prechod medzi označeniami sedadiel pomocou písmen a indexom riadku v poli reprezentujúcom naše lietadlo. Konkrétne definujeme slovník `SEAT_TO_IDX`, ktorý prekonvertuje písmenové označenie na index riadku, a slovník `IDX_TO_SEAT` pre opačnú konverziu."
   ]
  },
  {
   "cell_type": "code",
   "execution_count": null,
   "metadata": {},
   "outputs": [],
   "source": [
    "SEAT_TO_IDX = {\n",
    "    \"A\": 6,\n",
    "    \"B\": 5,\n",
    "    \"C\": 4,\n",
    "    \"D\": 2,\n",
    "    \"E\": 1,\n",
    "    \"F\": 0\n",
    "}\n",
    "\n",
    "IDX_TO_SEAT = {\n",
    "    0: \"F\",\n",
    "    1: \"E\",\n",
    "    2: \"D\",\n",
    "    4: \"C\",\n",
    "    5: \"B\",\n",
    "    6: \"A\"\n",
    "}"
   ]
  },
  {
   "cell_type": "markdown",
   "metadata": {},
   "source": [
    "### 1.2 `Passenger`\n",
    "\n",
    "Trieda `Passenger` definuje pasažiera a jeho správanie a to nasledovným spôsobom:\n",
    "\n",
    "* konštruktor triedy má tri parametre: `row` (číslo radu - v poli to definuje stĺpec), `seat` (písmeno sedadla cestujúceho - v poli to definuje riadok) a `no_of_bags` (počet kusov batožiny). Po kontrole vstupov konštruktor definuje nasledovné vnútorné premenné:\n",
    "  * `self.row` – číslo radu, kde cestujúci má miesto (parameter `row`)\n",
    "  * `self.seat` – písmeno sedadla (parameter `seat`)\n",
    "  * `self.bags` – vyjadruje počet krokov, ktorý cestujúci potrebuje na to, aby svoju batožinu dal do odkladacieho priestoru nad hlavou (parameter `no_of_bags * 4`) \n",
    "  * `self.plane` – smerník na lietadlo, v ktorom sa nachádza cestujúci; v konštruktore nastavený na `None`\n",
    "  * `self.current_position` – vyjadruje aktuálnu polohu cestujúceho v lietadle, v konštruktore nastavená na `[None, None]`\n",
    "* `get_position(self)` – metóda vracia pozíciu cestujúceho v poli (riadok a stĺpec v zozname zoznamov), ktoré reprezentuje lietadlo v ktorom sa cestujúci nachádza. Ak cestujúci ešte nebol pridaný do lietadla, metóda vracia `None`.\n",
    "* `get_seat(self)` – metóda vracia pozíciu sedadla cestujúceho v lietadle (riadok a stĺpec v zozname zoznamov).\n",
    "* `add_to_plane(self, plane)` – metóda pridá cestujúceho do lietadla. Metóda má jeden parameter: smerník na lietadlo, do ktorého chceme pridať cestujúceho. V metóde aktualizujeme hodnotu vnútornej premennej `plane` a dvojicu čísel `current_position` na `[0, 3]` (*0* reprezentuje nultý rad sedadiel, *3* je chodba – index stĺpca a riadku v dvojrozmernom poli reprezentujúcom lietadlo).\n",
    "* `can_sit(self)` – metóda určí, či cestujúci má voľnú cestu ku svojmu miestu ak už stojí v danom rade. Ak cestujúci má miesto pri chodbe, metóda vracia vždy `True`, v opačnom prípade vráti `True` ak sedadlá medzi sedadlom cestujúceho a chodbou nie sú obsadené (napr.: ak si cestujúci chce sadnúť na 4E, ale niekto sedí na 4D, metóda vracia `False`). Funkcia vracia `False` ak cestujúci ešte nebol pridaný do lietadla, alebo nestojí na chodbe. Na kontrolu voľnosti pozícií použijeme metódu `is_empty` z triedy `Plane`.\n",
    "* `forced_to_move(self, x, y)` – metóda reprezentuje vynútený pohyb cestujúceho (samotný cestujúci sa nechce pohnúť, ale je to nevyhnutné pretože prekáža niekomu inému). Metóda má dva parametre – `x` a `y` –, ktoré reprezentujú novú polohu cestujúceho v lietadle. V metóde aktualizujeme hodnotu dvojice `current_position`.\n",
    "* `move(self)` – metóda reprezentuje pohyb cestujúceho v lietadle. Ak cestujúci ešte nebol pridaný do lietadla, funkcia vygeneruje `TypeError`. Ak sa cestujúci nachádza v lietadle, metóda vráti vždy dve hodnoty – novú pozíciu cestujúceho (rad sedadiel a číslovanie sedadiel resp. chodby) Pohyb cestujúceho vieme popísať niekoľkými pravidlami:\n",
    "   1. kým cestujúci nie je v rade svojho miesta, ostane na chodbe a vždy urobí jeden krok dopredu ak nasledujúca pozícia je voľná\n",
    "   2. ak cestujúci už stojí v rade svojho miesta, najprv uloží svoju batožinu (znížime hodnotu `self.bags` o 1, až kým nedosiahne 0, cestujúci ostane na svojej pozícii)\n",
    "   3. ak cestujúci už stojí v rade svojho miesta a nemá batožinu, pozrie sa, či má voľnú cestu k svojmu miestu. Ak áno, tak si sadne, ak nie, poprosí ďalších cestujúcich, aby mu uvoľnili cestu (viď `move_row` a `return_row` v triede `Plane`)."
   ]
  },
  {
   "cell_type": "code",
   "execution_count": null,
   "metadata": {},
   "outputs": [],
   "source": [
    "class Passenger:\n",
    "    def __init__(self, row, seat, no_of_bags):\n",
    "        if seat not in ['A', 'B', 'C', 'D', 'E', 'F']:\n",
    "            raise ValueError(\"Seat must be a letter from A to F\")\n",
    "\n",
    "        self.row = row\n",
    "        self.seat = seat\n",
    "        self.bags = no_of_bags * 4\n",
    "\n",
    "        self.plane = None\n",
    "        self.current_position = [None, None]\n",
    "\n",
    "    def __str__(self):\n",
    "        return \"<Passenger in seat: {}{}>\".format(self.row, self.seat)\n",
    "\n",
    "    def get_position(self):\n",
    "        if self.plane is not None:\n",
    "            return self.current_position[-1], self.current_position[0]\n",
    "        else:\n",
    "            return None\n",
    "\n",
    "    def get_seat(self):\n",
    "        x = SEAT_TO_IDX[self.seat]\n",
    "        y = self.row\n",
    "        return x, y\n",
    "\n",
    "    def add_to_plane(self, plane):\n",
    "        self.plane = plane\n",
    "        self.current_position = [0, 3]\n",
    "\n",
    "    def can_sit(self):\n",
    "        if self.plane is None:\n",
    "            return False\n",
    "\n",
    "        if self.current_position[1] != 3:\n",
    "            return False\n",
    "\n",
    "        r = self.current_position[0]\n",
    "        s_idx = SEAT_TO_IDX[self.seat]\n",
    "        if self.seat in ['A', 'B', 'C']:\n",
    "            for s in range(4, s_idx):\n",
    "                if not self.plane.is_empty(r, s):\n",
    "                    return False\n",
    "        else:\n",
    "            for s in range(s_idx + 1, 3):\n",
    "                if not self.plane.is_empty(r, s):\n",
    "                    return False\n",
    "\n",
    "        return True\n",
    "\n",
    "    def forced_to_move(self, x, y):\n",
    "        self.current_position = [y, x]\n",
    "\n",
    "    def move(self):\n",
    "        if self.plane is None:\n",
    "            raise TypeError(\"This passenger was not added to a plane yet\")\n",
    "\n",
    "        r, s = self.current_position\n",
    "        if r < self.row and self.plane.is_empty(r + 1, s):\n",
    "            self.current_position = [r + 1, s]\n",
    "            return r + 1, s\n",
    "\n",
    "        if r == self.row:\n",
    "            if self.bags > 0:\n",
    "                self.bags -= 1\n",
    "                return r, s\n",
    "            else:\n",
    "                if self.can_sit():\n",
    "                    self.current_position = [self.row, SEAT_TO_IDX[self.seat]]\n",
    "                    self.plane.return_row(self.row)\n",
    "                    return self.row, SEAT_TO_IDX[self.seat]\n",
    "                else:\n",
    "                    self.plane.move_row(self.row, self.seat)\n",
    "                    return r, s\n",
    "\n",
    "        return r, s"
   ]
  },
  {
   "cell_type": "markdown",
   "metadata": {},
   "source": [
    "### 1.3. `Plane`\n",
    "\n",
    "Trieda `Plane` definuje model lietadla a poskytuje prehľad o pozíciach jednotlivých pasažierov. Definuje nasledovné metódy a funkcionalitu:\n",
    "\n",
    "* konštruktor triedy má jeden parameter: `length` (počet radov v lietadle). Trieda má nasledovné vnútorné premenné:\n",
    "    * `self.length` – počet radov v lietadle (parameter `length`)\n",
    "    * `self.seats` – dvojrozmerný zoznam zoznamov, kde každý riadok reprezentuje sedadlá s rovnakým písmenom a každý stĺpec reprezentuje jeden rad sedadiel. Na každej pozícii tohto poľa je zoznam cestujúcich, ktorí sa nachádzajú na danej pozícii. Pole bude mať dĺžku o 2 väčšiu ako je dĺžka lietadla aby sme mali 0. a n+1. rad (viď vizualizáciu lietadla vyššie).\n",
    "* metódy `print_plane`, `print_seats` a `print_corridor` nám vykresľujú lietadlo tak, že na každej pozícii budeme mať počet cestujúcich na danej pozícii.\n",
    "* `add_passengers(self, psg_list)` – metóda pridá cestujúcich zo zoznamu do lietadla. Má jeden parameter, `psg_list`, ktorý je zoznam s cestujúcimi. Pre každého cestujúceho zavoláme obdobnú metódu z triedy `Passenger`, ktorá ho pridá do lietadla a následne pridáme cestujúceho aj do zoznamu na pozícii `[3, 0]` (opačné poradie ako reprezentácia pozície v triede `Passenger`).\n",
    "* `is_empty(self, row, seat)` – metóda vracia `True` ak zoznam na pozícii `[seat, row]` je prázdna, `False` v opačnom prípade. Ak daná pozícia neexistuje, vráti `True`.\n",
    "* `move_row(self, row, seat_letter)` – metóda slúži na posunutie cestujúcich zo sedadiel s účelom uvoľnenia cesty pre ďalšieho cestujúceho k svojmu miestu. Metóda má dva parametre – rad a písmeno sedadla, do ktorého si chce cestujúci sadnúť. Metóda najprv zistí, či pozícia `[3, row + 1]` je voľná, a ak áno, posunie každého sediaceho cestujúceho na túto pozíciu (pridá ich do príslušného zoznamu). Ak pozícia nie je voľná, metóda nič nerobí, a nový cestujúci musí ďalej čakať.\n",
    "* `return_row(self, row)` – metóda je opakom metódy `move_row`, t. j. vráti všetkých cestujúcich z pozície `[3, row  + 1]` na svoje miesta v jednom kroku, ak majú sedieť v danom rade.\n",
    "* `move_passengers(self)` – metóda posunie všetkých cestujúcich na chodbe a aktualizuje ich pozíciu v dvojrozmernom poli. Pre zistenie novej pozície cestujúceho použijeme metódu `move` z triedy `Passenger`. Pre predídeniu deadlockov začneme s aktualizáciou pozície cestujúcich na konci lietadla (posledné miesto na chodbe).\n",
    "* `boarding_finished(self)` – metóda zistí, či je nastupovanie dokončené. Vráti `True`, ak na chodbe už nie sú cestujúci a všetky sedadlá sú obsadené. V opačnom prípade vráti `False`."
   ]
  },
  {
   "cell_type": "code",
   "execution_count": null,
   "metadata": {},
   "outputs": [],
   "source": [
    "class Plane:\n",
    "    def __init__(self, length):\n",
    "        self.length = length\n",
    "        self.seats = [[[] for i in range(self.length + 2)] for j in range(7)]\n",
    "\n",
    "    def print_plane(self):\n",
    "        for x in range(len(self.seats)):\n",
    "            if x != 3:\n",
    "                self.print_seats(x)\n",
    "            else:\n",
    "                self.print_corridor()\n",
    "\n",
    "    def print_seats(self, seat_idx):\n",
    "        row_str = \"  | \"\n",
    "        for seat in self.seats[seat_idx][1:-1]:\n",
    "            if len(seat) == 0:\n",
    "                row_str += \" O\"\n",
    "            else:\n",
    "                row_str += \" {}\".format(len(seat))\n",
    "        row_str += \" |\"\n",
    "        print(row_str)\n",
    "\n",
    "    def print_corridor(self):\n",
    "        corridor_str = \"\"\n",
    "        for position in self.seats[3]:\n",
    "            if len(position) == 0:\n",
    "                corridor_str += \"  \"\n",
    "            else:\n",
    "                corridor_str += \" {}\".format(len(position))\n",
    "        print(corridor_str)\n",
    "\n",
    "    def add_passengers(self, psg_list):\n",
    "        for passenger in psg_list:\n",
    "            passenger.add_to_plane(self)\n",
    "            self.seats[3][0].append(passenger)\n",
    "\n",
    "    def is_empty(self, row, seat):\n",
    "        try:\n",
    "            return not len(self.seats[seat][row])\n",
    "        except IndexError:\n",
    "            return True\n",
    "\n",
    "    def move_row(self, row, seat_letter):\n",
    "        if seat_letter in [\"A\", \"B\", \"C\"]:\n",
    "            seat_list = [\n",
    "                self.seats[4][row],\n",
    "                self.seats[5][row],\n",
    "                self.seats[6][row]\n",
    "            ]\n",
    "        else:\n",
    "            seat_list = [\n",
    "                self.seats[0][row],\n",
    "                self.seats[1][row],\n",
    "                self.seats[2][row]\n",
    "            ]\n",
    "\n",
    "        if self.is_empty(row + 1, 3):\n",
    "            for psg_seat in seat_list:\n",
    "                try:\n",
    "                    psg = psg_seat[0]\n",
    "                    psg_seat.remove(psg)\n",
    "                    self.seats[3][row + 1].append(psg)\n",
    "                    psg.forced_to_move(3, row + 1)\n",
    "                except IndexError:\n",
    "                    pass\n",
    "\n",
    "    def return_row(self, row):\n",
    "        cpy = self.seats[3][row + 1].copy()\n",
    "        if not self.is_empty(row + 1, 3):\n",
    "            for psg in cpy:\n",
    "                y, x = psg.get_seat()\n",
    "                p_y, p_x = psg.get_position()\n",
    "                if x == row:\n",
    "                    self.seats[3][row + 1].remove(psg)\n",
    "                    self.seats[y][x].append(psg)\n",
    "                    psg.forced_to_move(x, y)\n",
    "\n",
    "    def move_passengers(self):\n",
    "        for idx in range(len(self.seats[3]) - 1, -1, -1):\n",
    "            for psg in self.seats[3][idx]:\n",
    "                old_s, old_r = psg.get_position()\n",
    "                new_r, new_s = psg.move()\n",
    "                if old_s != new_s or old_r != new_r:\n",
    "                    save_psg = psg\n",
    "                    self.seats[3][idx].remove(psg)\n",
    "                    self.seats[new_s][new_r].append(save_psg)\n",
    "                else:\n",
    "                    pass\n",
    "\n",
    "    def boarding_finished(self):\n",
    "        for pos in self.seats[3]:\n",
    "            if len(pos) != 0:\n",
    "                return False\n",
    "\n",
    "        for row in self.seats[:3] + self.seats[4:]:\n",
    "            for seat in row[1:-1]:\n",
    "                if len(seat) != 1:\n",
    "                    return False\n",
    "\n",
    "        return True"
   ]
  },
  {
   "cell_type": "markdown",
   "metadata": {},
   "source": [
    "## Krok 2: `Boarding`\n",
    "\n",
    "V súbore `boarding.py` nájdeme všeobecnú triedu `Boarding` a jeho podtriedy, ktoré budú definovať konkrétne poradie nastupovania pasažierov. Trieda `Boarding` ale definuje všeobecnú funkcionalitu, a to konkrétne simuláciu nastupovania s cieľom zistiť počet krokov potrebných na usadenie všetkých cestujúcich (`run_simulation`), a vykonanie niekoľkých simulácií na zistenie priemernej dĺžky nastupovania (`test_boarding_method`).\n",
    "\n",
    "V triede teda doplňte nasledovnú funkcionalitu:\n",
    "\n",
    "* metóda `generate_boarding` ostane prázdna - bude špecifikovaná v podtriedach; metóda pripraví simuláciu tak, že nastaví lietadlo v členskej premennej `self.plane` (v ďalších metódach teda môžete pracovať s touto premennou).\n",
    "* `run_simulation(self, plane_length)` – metóda, ktorá spustí simuláciu nastupovania cestujúcich do lietadla. Metóda má jeden parameter, a to dĺžku lietadla (počet radov), pre ktoré chceme vytvoriť simuláciu. V metóde máme vygenerovať poradie nastupovania cestujúcich (pomocou `generate_boarding`). Nastupovanie prebieha opätovným posúvaním cestujúcich až kým nastupovanie nie je dokončené – všetky miesta sú obsadené. Metóda vracia jednu hodnotu, počet potrebných krokov pre ukončenie nástupu. Metódu implementujeme iba v triede `Boarding` (podtriedy budú využívať túto implementáciu).\n",
    "* `test_boarding_method(self, plane_length, no_simulation)` – metóda spustí niekoľko simulácií nastupovania danou metódou. Metóda má dva parametre: `plane_length` (počet radov v lietadle) a `no_simulation` (počet simulácií). Metóda vracia dve hodnoty: priemerný počet krokov potrebných na ukončenie nástupu, a zoznam výsledkov jednotlivých simulácií. Metódu implementujeme priamo v triede `Boarding` (podtriedy budú využívať túto implementáciu)."
   ]
  },
  {
   "cell_type": "code",
   "execution_count": null,
   "metadata": {},
   "outputs": [],
   "source": [
    "class Boarding:\n",
    "    def __init__(self):\n",
    "        self.plane = None\n",
    "\n",
    "    def generate_boarding(self, plane_length):\n",
    "        # DO NOT IMPLEMENT HERE\n",
    "        pass\n",
    "\n",
    "    def run_simulation(self, plane_length):\n",
    "        # TODO\n",
    "        return None\n",
    "\n",
    "    def test_boarding_method(self, plane_length, no_simulation):\n",
    "        # TODO\n",
    "        return None, None"
   ]
  },
  {
   "cell_type": "markdown",
   "metadata": {},
   "source": [
    "## Krok 3: Definovanie rôznych metód nastupovania\n",
    "\n",
    "V tomto kroku postupne implementujeme a otestujeme rôzne formy nastupovania pasažierov do lietadla. Nástup bude reprezentovaný vygenerovaním pasažierov podľa istého pravidla v metóde `generate_boarding`, ktorú prepíše každá podtrieda triedy `Boarding`. Vygenerovaných pasažierov následne pridáme do lietadla v danom poradí (zavoláme metódu `add_passengers` v `Plane`). Pri generovaní cestujúcich najprv vždy vytvoríme jednotlivé skupiny cestujúcich podľa ich miesta, následne náhodne premiešame túto skupinu cestujúcich a až potom ich pridáme do lietadla."
   ]
  },
  {
   "cell_type": "markdown",
   "metadata": {},
   "source": [
    "### Krok 3.1. Front-to-back\n",
    "\n",
    "Najprv implementujeme metódu nástupu front-to-back, teda najprv nastúpia pasažieri, ktorí sedia vpredu. Cestujúcich rozdelíme na štyri skupiny na základe toho, v ktorom rade sedia (môžeme predpokladať, že lietadlo bude mať dĺžku - počet radov - deliteľnú 4). Na lietadlo najprv spustíme cestujúcich z najprednejšej  skupiny (v náhodnom poradí), potom cestujúcich z druhej najprednejšej  skupiny, atď. Ako poslední nastupujú cestujúci, ktorí sedia vzadu.\n",
    "\n",
    "Implementujte metódu `generate_boarding` nasledovne:\n",
    "\n",
    "1. vytvorte lietadlo a nastavte členskú premennú triedy `plane`\n",
    "2. vypočítajte dĺžku jednej podskupiny (dĺžku lietadla delíme na štyri rovnaké časti)\n",
    "3. pre každú podskupinu vygenerujte zoznam cestujúcich v skupine, následne ich poradie premiešajte v rámci skupiny (použite metódu [`shuffle`](docs.python.org/3/library/random.html)) a pridajte tento zoznam na koniec zoznamu všetkých pasažierov. Pasažieri nech majú náhodne vygenerovaný počet batožiny 1, 2 alebo 3 s váhami 0.3, 0.6 a 0.1 (použite metódu [`choices`](docs.python.org/3/library/random.html)).\n",
    "4. pridajte zoznam všetkých cestujúcich do lietadla"
   ]
  },
  {
   "cell_type": "code",
   "execution_count": null,
   "metadata": {},
   "outputs": [],
   "source": [
    "from random import choices, shuffle\n",
    "\n",
    "class BoardingFTB(Boarding):\n",
    "    def generate_boarding(self, plane_length):\n",
    "        # TODO\n",
    "        pass"
   ]
  },
  {
   "cell_type": "markdown",
   "metadata": {},
   "source": [
    "### Krok 3.2. Testovanie\n",
    "\n",
    "Otestujte vaše riešenie pomocou kódu nižšie. S takýmto nastavením parametrov by ste mali dostať priemerný počet krokov okolo 339."
   ]
  },
  {
   "cell_type": "code",
   "execution_count": null,
   "metadata": {},
   "outputs": [],
   "source": [
    "test = BoardingFTB()\n",
    "avg, steps = test.test_boarding_method(8, 50)\n",
    "\n",
    "print(\"Boarding took {} steps on average\".format(avg))\n",
    "print(steps)"
   ]
  },
  {
   "cell_type": "markdown",
   "metadata": {},
   "source": [
    "### Krok 3.3. Back-to-front\n",
    "\n",
    "Obdobným spôsobom vieme zadefinovať ďalší spôsob nástupu, a to back-to-front, kde pasažierov rozdelíme rovnako na štyri skupiny, ale najprv spustíme tých, ktorí sedia vzadu. Cestujúcich teda rozdelíme na štyri skupiny na základe toho, v ktorom rade sedia. Na lietadlo najprv spustíme cestujúcich z najzadnejšej skupiny (v náhodnom poradí), potom cestujúcich z druhej najzadnejšej skupiny, atď. Ako poslední nastupujú cestujúci, ktorí sedia vpredu. Môžeme predpokladať, že dĺžka lietadla, t.j. počet radov, bude deliteľná 4. Nástup otestujeme rovnakým spôsobom, v priemere potrebujeme okolo 295 krokov."
   ]
  },
  {
   "cell_type": "code",
   "execution_count": null,
   "metadata": {},
   "outputs": [],
   "source": [
    "class BoardingBTF(Boarding):\n",
    "    def generate_boarding(self, plane_length):\n",
    "        # TODO\n",
    "        pass"
   ]
  },
  {
   "cell_type": "code",
   "execution_count": null,
   "metadata": {},
   "outputs": [],
   "source": [
    "test = BoardingBTF()\n",
    "avg, steps = test.test_boarding_method(8, 50)\n",
    "\n",
    "print(\"Boarding took {} steps on average\".format(avg))\n",
    "print(steps)"
   ]
  },
  {
   "cell_type": "markdown",
   "metadata": {},
   "source": [
    "### Krok 3.4. Window-to-aisle\n",
    "\n",
    "V ďalsom spôsobe cestujúcich rozdelíme na tri skupiny na základe toho, kde sedia v rámci troch sedadiel (pri okne, v strede, alebo pri chodbe). Na lietadlo najprv spustíme cestujúcich sediacich pri okne, teda sedadlá A a F (v náhodnom poradí), potom cestujúcich sediacich v strede, teda sedadlá B a E, a na záver cestujúcich sediacich pri chodbe, teda sedadlá C a D. V priemere potrebujeme okolo 207 krokov."
   ]
  },
  {
   "cell_type": "code",
   "execution_count": null,
   "metadata": {},
   "outputs": [],
   "source": [
    "class BoardingWTA(Boarding):\n",
    "    def generate_boarding(self, plane_length):\n",
    "        # TODO\n",
    "        pass"
   ]
  },
  {
   "cell_type": "code",
   "execution_count": null,
   "metadata": {},
   "outputs": [],
   "source": [
    "test = BoardingWTA()\n",
    "avg, steps = test.test_boarding_method(8, 50)\n",
    "\n",
    "print(\"Boarding took {} steps on average\".format(avg))\n",
    "print(steps)"
   ]
  },
  {
   "cell_type": "markdown",
   "metadata": {},
   "source": [
    "### Krok 3.5. Aisle-to-window\n",
    "\n",
    "Cestujúcich rozdelíme na tri skupiny na základe toho, kde sedia v rámci troch sedadiel (pri okne, v strede, alebo pri chodbe). Na lietadlo najprv spustíme cestujúcich sediacich pri chodbe, teda sedadlá C a D (v náhodnom poradí), potom cestujúcich sediacich v strede, teda sedadlá B a E, a na záver cestujúcich sediacich pri okne, teda  sedadlá A a F. V priemere potrebujeme okolo 225 krokov."
   ]
  },
  {
   "cell_type": "code",
   "execution_count": null,
   "metadata": {},
   "outputs": [],
   "source": [
    "class BoardingATW(Boarding):\n",
    "    def generate_boarding(self, plane_length):\n",
    "        # TODO\n",
    "        pass"
   ]
  },
  {
   "cell_type": "code",
   "execution_count": null,
   "metadata": {},
   "outputs": [],
   "source": [
    "test = BoardingATW()\n",
    "avg, steps = test.test_boarding_method(8, 50)\n",
    "\n",
    "print(\"Boarding took {} steps on average\".format(avg))\n",
    "print(steps)"
   ]
  },
  {
   "cell_type": "markdown",
   "metadata": {},
   "source": [
    "### Krok 3.6. Random\n",
    "\n",
    "Cestujúcich nerozdelíme do žiadnych skupín, spustíme ich na lietadlo v náhodnom poradí. V priemere potrebujeme okolo 222 krokov."
   ]
  },
  {
   "cell_type": "code",
   "execution_count": null,
   "metadata": {},
   "outputs": [],
   "source": [
    "class BoardingRandom(Boarding):\n",
    "    def generate_boarding(self, plane_length):\n",
    "        # TODO\n",
    "        pass"
   ]
  },
  {
   "cell_type": "code",
   "execution_count": null,
   "metadata": {},
   "outputs": [],
   "source": [
    "test = BoardingRandom()\n",
    "avg, steps = test.test_boarding_method(8, 50)\n",
    "\n",
    "print(\"Boarding took {} steps on average\".format(avg))\n",
    "print(steps)"
   ]
  },
  {
   "cell_type": "markdown",
   "metadata": {},
   "source": [
    "### Krok 3.7. Steffen's perfect\n",
    "\n",
    "Steffenova metóda definuje optimálny nástup do lietadla. Cestujúcich spustíme na lietadlo podľa postupu definovaného Jasonom Steffenom: od okna po chodbu, zozadu každý druhý rad, striedavé strany. To znamená, že na lietadlo najprv spustíme cestujúcich na sedadlách v párnom rade a na sedadle A. Potom prídu cestujúci v párnom rade na sedadle F. V ďalšom kroku nastupujú cestujúci v nepárnych radoch na sedadle A. Nastupovanie cestujúcich sediacich pri okne ukončíme skupinou v nepárnych radoch na sedadle F. Nastupovanie pokračuje podľa rovnakého pravidla pre sedadlá B a E, resp. C a D:\n",
    "\n",
    "![](sources/lab11/steffen.jpg)\n",
    "\n",
    "V priemere potrebujeme okolo 152 krokov."
   ]
  },
  {
   "cell_type": "code",
   "execution_count": null,
   "metadata": {},
   "outputs": [],
   "source": [
    "class BoardingSteffen(Boarding):\n",
    "    def generate_boarding(self, plane_length):\n",
    "        # TODO\n",
    "        pass"
   ]
  },
  {
   "cell_type": "code",
   "execution_count": null,
   "metadata": {},
   "outputs": [],
   "source": [
    "test = BoardingSteffen()\n",
    "avg, steps = test.test_boarding_method(8, 50)\n",
    "\n",
    "print(\"Boarding took {} steps on average\".format(avg))\n",
    "print(steps)"
   ]
  },
  {
   "cell_type": "markdown",
   "metadata": {},
   "source": [
    "## Doplňujúca úloha\n",
    "\n",
    "Pre jednoduchšie porovnanie všetkých metód vygenerujte graf, ktorý bude vizualizovať distribúciu počtu krokov potrebných na ukončenie nástupu rôznymi metódami."
   ]
  }
 ],
 "metadata": {
  "kernelspec": {
   "display_name": "Python 3",
   "language": "python",
   "name": "python3"
  },
  "language_info": {
   "codemirror_mode": {
    "name": "ipython",
    "version": 3
   },
   "file_extension": ".py",
   "mimetype": "text/x-python",
   "name": "python",
   "nbconvert_exporter": "python",
   "pygments_lexer": "ipython3",
   "version": "3.7.3"
  }
 },
 "nbformat": 4,
 "nbformat_minor": 2
}
