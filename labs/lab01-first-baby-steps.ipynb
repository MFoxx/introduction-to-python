{
 "cells": [
  {
   "cell_type": "markdown",
   "metadata": {},
   "source": [
    "# Cvičenie 1: Prvé kroky v Pythone"
   ]
  },
  {
   "cell_type": "markdown",
   "metadata": {},
   "source": [
    "Na prvom cvičení sa oboznámime so základnými jazykovými konštruktmi jazyka Python a napíšeme prvé jednoduché programy. Cieľom cvičenia je naučiť sa pracovať so štandardným vstupom a výstupom, elementárnymi typmi, základnými operáciami, ako aj s vetveniami a iteráciami.\n",
    "\n",
    "Programovať môžete vo vybranom vývojárskom prostredí alebo priamo v tomto Jupyter notebooku."
   ]
  },
  {
   "cell_type": "markdown",
   "metadata": {},
   "source": [
    "## 1. Hello, world!\n",
    "\n",
    "Tradičný prvý program, ktorý začiatočníci v ktoromkoľvek programovacom jazyku napíšu je *Hello, world!*. Jeho história siaha až do 70-tych rokov, keď Brian W. Kernighan a Dennis M. Ritchie ho použili vo svojej učebnici jazyka C *The C Programming Language* (1978). Kernighan program použil už skôr, v roku 1974 v Bell Laboratories. Úplne prvé použitie na výučbové účely pochádza z roku 1972, z knihy Kernighana *A Tutorial Introduction to the Language B*.\n",
    "\n",
    "Ako už iste viete, v jazyku C na štandardný výstup sa používa funkcia `printf`, ktorá výstup aj formátuje. Python je v tomto smere viac univerzálny, keďže veľkú časť formátovania vyrieši za vás, vy môžete rovno zadať reťazec, resp. hodnoty, ktoré chcete dať vypísať. V Pythone na štandardný výpis slúži funkcia [`print`](https://docs.python.org/3.8/library/functions.html#print).\n",
    "\n",
    "**Úloha:** Implementujte jednoduchý program, ktorý na štandardný výstup vypíše reťazec \"Hello, world!\" Pridáte sa tak k dlhému radu programátorov a k tradícii ich snahy osvojiť si nové programovacie jazyky."
   ]
  },
  {
   "cell_type": "code",
   "execution_count": null,
   "metadata": {},
   "outputs": [],
   "source": [
    "# implement Hello, world! here\n"
   ]
  },
  {
   "cell_type": "markdown",
   "metadata": {},
   "source": [
    "## 2. Hello, ...!\n",
    "\n",
    "V ďalšom kroku váš program personalizujete, a naučíte váš počítač, aby vás (alebo kohokoľvek) pozdravil. Upravte váš kód tak, aby sa najprv opýtal na meno používateľa, a následne vypísal pozdrav *Hello, _*, kde namiesto *_* sa vypíše zadané meno.\n",
    "\n",
    "Pre štandardný výstup použite funkciu [`input`](https://docs.python.org/3.8/library/functions.html#input), ktorá má jeden nepovinný parameter, a to prompt, teda krátky text, ktorý vysvetlí používateľovi, aký vstup presne má zadať. Funkcia vráti zadaný reťazec. Vo vašom programe túto hodnotu potrebujete uložiť do pomocnej premennej.\n",
    "\n",
    "**Úloha:** Implementujte jednoduchý program, ktorý sa opýta na meno používateľa, a následne ho pozdraví reťazcom \"Hello, _!\" Pri výpise máte niekoľko možností formátovania výstupu, môžete si ich prečítať [tu](https://docs.python.org/3/tutorial/inputoutput.html)."
   ]
  },
  {
   "cell_type": "code",
   "execution_count": null,
   "metadata": {},
   "outputs": [],
   "source": [
    "# ask the user what his/her name is\n",
    "\n",
    "# write Hello, ...\n"
   ]
  },
  {
   "cell_type": "markdown",
   "metadata": {},
   "source": [
    "## 3. Výpočet druhej mocniny\n",
    "\n",
    "**Úloha:** Napíšte program, ktorý ako vstup od používateľa načíta číslo (celé alebo desatinné) a vypíše druhú mocninu tohto čísla. Vyskúšajte obe základné možnosti výpočtu druhej mocniny: viacnásobné násobenie (operátor *\\**) a priame umocňovanie (operátor *\\***)."
   ]
  },
  {
   "cell_type": "code",
   "execution_count": null,
   "metadata": {},
   "outputs": [],
   "source": [
    "# ask the user to input a number\n",
    "\n",
    "# output the square of the number\n"
   ]
  },
  {
   "cell_type": "markdown",
   "metadata": {},
   "source": [
    "**Úloha:** Upravte vaše riešenie tak, aby výsledok zaukrohľoval na tri desatinné miesta."
   ]
  },
  {
   "cell_type": "markdown",
   "metadata": {},
   "source": [
    "## 4. Parita čísla\n",
    "\n",
    "Vo vašich programoch veľmi často budete potrebovať spracovať hodnoty rôznymi spôsobmi na základe ich vlastnosti. Aby ste boli pripravení na túto situáciu, teraz napíšete program, ktorý zistí, či číslo zadané používateľom je párne alebo nepárne. \n",
    "\n",
    "**Úloha:** Implementujte program, ktorý načíta číslo zo vstupu od používateľa, a následne vypíše, či číslo je párne alebo nepárne. Navrhnite pritom rôzne možnosti riešenia tohto problému, aby ste videli, že v programovaní zriedkakedy existuje iba jedno možné riešenie (aj keď veľa programátorov by vám povedal, že iba jedno riešenie je správne; problém však je, že programátori sa nezhodnú, ktoré to je)."
   ]
  },
  {
   "cell_type": "code",
   "execution_count": null,
   "metadata": {},
   "outputs": [],
   "source": [
    "# ask the user to input a number\n",
    "\n",
    "# output even if number is even, odd if number is odd\n"
   ]
  },
  {
   "cell_type": "markdown",
   "metadata": {},
   "source": [
    "## 5. Spoločné delitele\n",
    "\n",
    "Keby stačilo pracovať vždy len s jednou hodnotou v našich programoch, život programátora by bol bez stresu. Realita je však iná, a práve preto musíme akceptovať skutočnosť, že naše programy sú plné rôznych hodnôt a premenných. Zatiaľ vás ale budeme šetriť, a napíšeme program, ktorý zoberie dva číselné vstupy od používateľa. Následne program vypíše všetky spoločné delitele týchto dvoch čísel. Pred tým, než sa spustíme do programovania, pouvažujte na možných riešeniach tohto problému (realizáca v Pythone vás zatiaľ nemusí trápiť).\n",
    "\n",
    "**Úloha:** Implementujte program, ktorý načíta dve celé čísla zo štandardného vstupu a vypíše všetky ich spoločné deliteľe, teda celé čísla, ktoré delia obe čísla bezo zvyšku."
   ]
  },
  {
   "cell_type": "code",
   "execution_count": null,
   "metadata": {},
   "outputs": [],
   "source": [
    "# ask the user to enter two integers\n",
    "\n",
    "# output all common dividers of the two numbers\n"
   ]
  },
  {
   "cell_type": "markdown",
   "metadata": {},
   "source": [
    "## 6. Hľadanie prvočísel\n",
    "\n",
    "V predošlých úlohách sme hľadali párne, nepárne čísla a delitele čísel. Nájdenie prvočísel je ale trošku náročnejšia úloha, no sme si istí, že vy to zvládnete bez problémov. Nieže by ste to potrebovali, ale ako opakovanie vám prezradíme, že prvočísla sú čísla väčšie ako jedna, ktoré majú presne dva delitele: 1 a seba samého.\n",
    "\n",
    "**Úloha:** Implementujte program, ktorý načíta celé číslo zo štandardného vstupu a následne vypíše, či dané číslo je prvočíslo alebo nie."
   ]
  },
  {
   "cell_type": "code",
   "execution_count": null,
   "metadata": {},
   "outputs": [],
   "source": [
    "# ask the user to input an integer\n",
    "\n",
    "# output if number is prime or not\n"
   ]
  }
 ],
 "metadata": {
  "kernelspec": {
   "display_name": "Python 3",
   "language": "python",
   "name": "python3"
  },
  "language_info": {
   "codemirror_mode": {
    "name": "ipython",
    "version": 3
   },
   "file_extension": ".py",
   "mimetype": "text/x-python",
   "name": "python",
   "nbconvert_exporter": "python",
   "pygments_lexer": "ipython3",
   "version": "3.8.5"
  }
 },
 "nbformat": 4,
 "nbformat_minor": 4
}
