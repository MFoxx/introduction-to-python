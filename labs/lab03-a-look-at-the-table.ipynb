{
 "cells": [
  {
   "cell_type": "markdown",
   "metadata": {},
   "source": [
    "# Cvičenie 3: Pohľad na tabuľku"
   ]
  },
  {
   "cell_type": "markdown",
   "metadata": {},
   "source": [
    "Na dnešnom cvičení si precvičíme prácu so súbormi a rôznymi zložitejšími dátovými typmi v Pythone. Cieľom je poukázať na typické prípady použitia týchto údajových štruktúr ako aj na postup pri spracovaní údajov a možné rozdelenie úloh pre modulárne riešenia.\n",
    "\n",
    "Ukážkovým príkladom bude spracovanie zoznamu futbalových výsledkov a generovanie tabuľky stavu ligy na základe týchto výsledkov. [Na tomto odkaze](sources/lab03/buli_results.txt) nájdete súbor s názvom `buli_results.txt`, ktorý obsahuje výsledky zápasov z prvých 23 kôl nemeckej Bundesligy. Každý riadok reprezentuje jeden zápas a má formu:\n",
    "\n",
    "`meno_domáceho_tímu počet_gólov_domácich - počet_gólov_hostí meno_hosťujúceho_tímu`.\n",
    "\n",
    "Ako môžete vidieť v súbore, väčšina tímov má meno, ktoré sa skladá z viacerých slov, alebo obsahuje aj čísla, napríklad `1. FC Köln`. Ako platí všeobecne vo futbale, tím, ktorý strelí viac gólov, zápas vyhrá a získa tak 3 body. Ak oba tímy strelia rovnaký počet gólov (alebo ani jeden z nich gól nestrelí), oba odchádzajú zo zápasu s 1 bodom. Za prehru tímy bod nedostanú. \n",
    "\n",
    "Vaším cieľom na dnešnom cvičení je zo súboru vygenerovať tabuľku, ktorá bude mať približne nasledovnú formu:\n",
    "\n",
    "```\n",
    "|Rank|Team                    | G| W| D| L| GF| GA| P|\n",
    "------------------------------------------------------\n",
    "|   1|Bayern München          |23|16| 4| 3| 67| 32|52|\n",
    "|   2|RB Leipzig              |23|15| 5| 3| 43| 20|50|\n",
    "|   3|Wolfsburg               |23|12| 9| 2| 37| 19|45|\n",
    "|   4|Eintracht Frankfurt     |23|11| 9| 3| 46| 32|42|\n",
    "|   5|Borussia Dortmund       |23|12| 3| 8| 48| 31|39|\n",
    "|   6|Bayer Leverkusen        |22|10| 7| 5| 40| 24|37|\n",
    "|   7|Union Berlin            |22| 8| 9| 5| 35| 25|33|\n",
    "|   8|Borussia Mönchengladbach|23| 8| 9| 6| 40| 36|33|\n",
    "|   9|VfB Stuttgart           |23| 8| 8| 7| 44| 36|32|\n",
    "|  10|Freiburg                |22| 8| 7| 7| 35| 34|31|\n",
    "|  11|Hoffenheim              |22| 7| 5|10| 36| 39|26|\n",
    "|  12|Werder Bremen           |22| 6| 8| 8| 26| 32|26|\n",
    "|  13|Augsburg                |22| 6| 5|11| 22| 35|23|\n",
    "|  14|1. FC Köln              |23| 5| 6|12| 21| 41|21|\n",
    "|  15|Arminia Bielefeld       |22| 5| 3|14| 18| 41|18|\n",
    "|  16|Hertha Berlin           |23| 4| 6|13| 26| 42|18|\n",
    "|  17|Mainz 05                |22| 4| 5|13| 23| 43|17|\n",
    "|  18|Schalke 04              |23| 1| 6|16| 16| 61| 9|\n",
    "```\n",
    "\n",
    "Kostru riešenia nájdete [tu](sources/lab03/lab03.py), alebo môžete pracovať priamo v tomto Jupyter notebooku."
   ]
  },
  {
   "cell_type": "markdown",
   "metadata": {},
   "source": [
    "## 1. Načítanie zo súboru\n",
    "\n",
    "Prvou úlohou je načítať údaje zo súboru s výsledkami. Tieto výsledky zatiaľ nijak nebudeme spracovávať, iba ich získame pre ďalšie spracovanie.\n",
    "\n",
    "**Úloha:** Implementujte funkciu `load_results`, ktorá načíta obsah súboru a vráti zoznam reťazcov, kde jeden reťazec reprezentuje jeden riadok zo súboru. Cestu k súboru dostane funkcia ako parameter `file_path`."
   ]
  },
  {
   "cell_type": "code",
   "execution_count": null,
   "metadata": {},
   "outputs": [],
   "source": [
    "def load_results(file_path):\n",
    "    # open file and read results from it\n",
    "    # returns a list of rows as strings\n",
    "    pass"
   ]
  },
  {
   "cell_type": "markdown",
   "metadata": {},
   "source": [
    "## 2. Načítanie výsledkov\n",
    "\n",
    "Funkciu pre načítanie výsledkov zo súboru už máme hotovú, avšak všetky informácie máme v jednom reťazci, čo nám veľmi nepomôže. Pri vytvorení tabuľky potrebujeme s týmito údajmi narábať rôznymi spôsobmi, a práve preto je potrebné, aby sme z reťazca reprezentujúceho jeden riadok zo súboru načítali pre nás dôležité dáta.\n",
    "\n",
    "Konkrétne sú to mená dvoch tímov, a počet nimi strelených gólov. Nezabudnite na to, že každý riadok obsahuje tieto informácie v poradí `domáci_tím domáce_góly - hostia_góly hosťujúci_tím`. Mená tímov sú ale komplikované, obsahujú viacero slov, aj čísla, takže pri načítaní týchto úloh musíte byť opatrní.\n",
    "\n",
    "**Úloha:** Implementujte funkciu `load_score`, ktorá má jeden parameter - `line`, ktorý je reťazec: riadok načítaný zo súboru. Funkcia vráti štvoricu údajov:\n",
    "* meno domáceho tímu: str\n",
    "* počet gólov strelených domácim tímom: int\n",
    "* meno hosťujúceho tímu: str\n",
    "* počet gólov hostí: int"
   ]
  },
  {
   "cell_type": "code",
   "execution_count": null,
   "metadata": {},
   "outputs": [],
   "source": [
    "def load_score(line):\n",
    "    # loads score from a row as string\n",
    "    # returns a tuple of four values: home team name, home team goals\n",
    "    # away team name, away team goals\n",
    "    pass"
   ]
  },
  {
   "cell_type": "markdown",
   "metadata": {},
   "source": [
    "## 3. Zoznam tímov\n",
    "\n",
    "Pred tým než sa spustíme do vytvorenia tabuľky, potrebujeme zistíť, koľko máme tímov v lige a ktoré sú to. Zatiaľ máme informácie o všetkých zápasoch, avšak jednotlivé tímy sa nachádzajú v týchto záznamoch viackrát.\n",
    "\n",
    "**Úloha:** Implementujte funkciu `get_team_list`, ktorá vráti zoznam názvov tímov v lige. Ako parameter dostane zoznam štvoríc `scores`, kde jedna štvorica je výstupom funkcie `load_score`, tede reprezentuje údaje o jednom zápase. Ak ste šikovní, funkciu sa vám podarí napísať na jeden riadok."
   ]
  },
  {
   "cell_type": "code",
   "execution_count": null,
   "metadata": {},
   "outputs": [],
   "source": [
    "def get_team_list(scores):\n",
    "    # returns a set of unique team names\n",
    "    pass"
   ]
  },
  {
   "cell_type": "markdown",
   "metadata": {},
   "source": [
    "## 4. Vytvorenie tabuľky\n",
    "\n",
    "Už vieme, ako načítať údaje zo súboru, tieto údaje vieme predspracovať a prekonvertovať do potrebnej podoby, a máme už aj zoznam tímov v lige. Nezostáva nám nič iné len vygenerovať zatiaľ prázdnu tabuľku, ktorú postupne budeme aktualizovať na základe výsledkov zápasov.\n",
    "\n",
    "Tabuľku samozrejme vieme reprezentovať rôznymi spôsobmi, dnes si zvolíme spôsob, kde tabuľka je reprezentovaná ako zoznam máp (dictionary). Teda pre každý tím vytvoríme dictionary, ktorý bude obsahovať informácie o výkone tímu v sezóne. Každý dictionary by mal obsahovať nasledovné údaje:\n",
    "* meno tímu\n",
    "* počet odohraných zápasov\n",
    "* počet výhier\n",
    "* počet remíz\n",
    "* počet prehier\n",
    "* počet strelených gólov\n",
    "* počet inkasovaných gólov\n",
    "* počet získaných bodov.\n",
    "\n",
    "**Úloha:** Implementujte funkciu `create_table`, ktorá vygeneruje prázdnu tabuľku pre ligu na základe zoznamu mien tímov v lige `team_names`. Funkcia vráti zoznam máp, pričom mapy obsahujú zatiaľ iba meno tímov. Pre ostatné údaje uložené v mapách zvoľte vhodné začiatočné hodnoty."
   ]
  },
  {
   "cell_type": "code",
   "execution_count": null,
   "metadata": {},
   "outputs": [],
   "source": [
    "def create_table(team_names):\n",
    "    # creates an empty table with team names\n",
    "    # there is one dictionary for every team with the following info:\n",
    "    # team name, number of games played, number of wins, number of draws\n",
    "    # number of losses, number of goals scored, number of goals conceeded\n",
    "    # number of points\n",
    "    pass"
   ]
  },
  {
   "cell_type": "markdown",
   "metadata": {},
   "source": [
    "## 5. Vyhľadávanie v tabuľke\n",
    "\n",
    "Už čoskoro sa dostaneme k spracovaniu výsledkov a k naplneniu tabuľky užitočnými údajmi, pred tým ale potrebujeme ešte implementovať dve pomocné funkcie.\n",
    "\n",
    "Prvá z nich rieši vyhľadávanie v tabuľke podľa mena tímu. Ak záznam o príslušnom tíme nenájde, funkcia vracia hodnotu `None`.\n",
    "\n",
    "**Úloha:** Implementujte funkciu `get_team_row`, ktorá nájde záznam pre tím `team_name` v tabuľke `table`. Ak takýto záznam neexistuje, funkcia vráti `None`."
   ]
  },
  {
   "cell_type": "code",
   "execution_count": null,
   "metadata": {},
   "outputs": [],
   "source": [
    "def get_team_row(table, team_name):\n",
    "    # finds the dictionary corresponding to the team in a table\n",
    "    pass"
   ]
  },
  {
   "cell_type": "markdown",
   "metadata": {},
   "source": [
    "## 6. Výpočet bodov\n",
    "\n",
    "Druhá pomocná funkcia bude mať na starosti výpočet bodov získaných tímom tak, že prechádza tabuľkou a počet bodov vyráta pre každý tím. Nezabudnite, že za výhry tím získa 3 body a za remízu 1.\n",
    "\n",
    "**Úloha:** Implementujte funkciu `update_points`, ktorá aktualizuje počet získaných bodov pre každý tím v tabuľke `table`. Funkcia nemá návratovú hodnotu, upravuje priamo tabuľku."
   ]
  },
  {
   "cell_type": "code",
   "execution_count": null,
   "metadata": {},
   "outputs": [],
   "source": [
    "def update_points(table):\n",
    "    # calculates the team's points based on number of wins, draws, losses\n",
    "    pass"
   ]
  },
  {
   "cell_type": "markdown",
   "metadata": {},
   "source": [
    "## 7. Aktualizácia tabuľky\n",
    "\n",
    "Teraz už nám nič nebráni v naplnení tabuľky reálnymi údajmi. Avšak spustiť sa do spracovania všetkých výsledkov naraz by bolo dosť nerozumné, takže v prvom rade vytvoríme funkciu, ktorá spracuje iba výsledok jedného zápasu a aktualizuje tabuľku.\n",
    "\n",
    "**Úloha:** Implementujte funkciu `add_match_to_table`, ktorá spracuje výsledok jedného zápasu a aktualizuje tabuľku podľa výsledku. Funkcia má dva parametre: `table` je zoznam reprezentujúci tabuľku, a `match_info` je štvorica hodnôt ako návratová hodnota z funkcie `load_score` (krok 2). Funkcia zoberie informácie o zápase a na základe nich aktualizuje údaje v tabuľke pre dva tímy. Návratovú hodnotu nemá, upravuje priamo tabuľku."
   ]
  },
  {
   "cell_type": "code",
   "execution_count": null,
   "metadata": {},
   "outputs": [],
   "source": [
    "def add_match_to_table(table, match_info):\n",
    "    # updates table based on a match result\n",
    "    # input is a list representing the table and\n",
    "    # a tuple representing the match result\n",
    "    # updates table directly, returns nothing\n",
    "    pass"
   ]
  },
  {
   "cell_type": "markdown",
   "metadata": {},
   "source": [
    "## 8. Naplnenie tabuľky údajmi\n",
    "\n",
    "A teraz konečne dozrel čas pre našu megafunkciu, ktorá zoberie výsledky uložené v súbore a z nich vygeneruje tabuľku. Samozrejme pri tom využijeme už implementované funkcie z bodov 1-7.\n",
    "\n",
    "**Úloha:** Implementujte funkciu `generate_table`, ktorá má jeden parameter: cestu k súboru s výsledkami futbalových zápasov (`results_file_path`). Funkcia načíta údaje z tohto súboru, vygeneruje tabuľku a následne túto tabuľku naplní údajmi podľa výsledkov. Funkcia vracia tabuľku, teda zoznam máp."
   ]
  },
  {
   "cell_type": "code",
   "execution_count": null,
   "metadata": {},
   "outputs": [],
   "source": [
    "def generate_table(results_file_path):\n",
    "    # gets path to file with results\n",
    "    # generates table and fills it with values based on match results\n",
    "    # returns the table as a list of dictionaries\n",
    "    pass"
   ]
  },
  {
   "cell_type": "markdown",
   "metadata": {},
   "source": [
    "## 9. Výpis tabuľky\n",
    "\n",
    "Vaša implementácia funkcie `generate_table` je bez pochýb skvelá, ale výstup z nej nie je príliš prehľadná. Práve preto vytvoríte ďalšiu funkciu, ktorá zoberie tabuľku s dátami a vypíše ju vo forme, ktorá je viac prehľadná pre človeka.\n",
    "\n",
    "**Úloha:** Implementujte funkciu `print_table`, ktorá dostane ako parameter (`table`) tabuľku, teda zoznam máp a vypíše ju na štandardný výstup ako prehľadnú tabuľku. Pri generovaní výstupu sa môžete inšpirovať tabuľkou z úvodu cvičenia."
   ]
  },
  {
   "cell_type": "code",
   "execution_count": null,
   "metadata": {},
   "outputs": [],
   "source": [
    "def print_table(table):\n",
    "    # prints table in a user-friendly way\n",
    "    # columns:\n",
    "    # rank, team, games, wins, draws, losses, goals for, goals against, points\n",
    "    # does not return anything\n",
    "    pass"
   ]
  },
  {
   "cell_type": "markdown",
   "metadata": {},
   "source": [
    "## 10. Zotriedenie tabuľky\n",
    "\n",
    "Ak vaše riešenie vyskúšate viackrát, tak si všimnete, že poradie tímov v tabuľke je viac-menej náhodná. Práve preto implementujeme ešte jednu funkciu, ktorá tímy zoradí podľa podmienky. Samozrejme v tabuľkách sú tieto tímy zoradené najčastejšie podľa počtu získaných bodov, my sme ale generalisti, a práve preto implementujeme funkciu, ktorá bude schopná zoradiť tímy podľa ľubovoľného atribútu, vzostupne aj zostupne.\n",
    "\n",
    "**Úloha:** Implementujte funkciu `sort_table`, ktorá zoradí tímy v tabuľke podľa istého atribútu; využite pri tom existujúce funkcie Pythonu. Funkcia vracia zoradenú tabuľku a má tri parametre:\n",
    "* `table` - tabuľka, ktorú chceme zoradiť;\n",
    "* `sort_by` - atribút, podľa ktorého chceme tímy zoradiť;\n",
    "* `ascending` - nepovinný parameter, ktorý určí, či tímy chceme zoradiť vzostupne (od najmenšej hodnoty po najväčšiu) alebo zostupne (od najväčšej hodnoty po najmenšiu)."
   ]
  },
  {
   "cell_type": "code",
   "execution_count": null,
   "metadata": {},
   "outputs": [],
   "source": [
    "def sort_table(table, sort_by, ascending=True):\n",
    "    # sorts table based on a key, returns a copy of the table\n",
    "    pass"
   ]
  },
  {
   "cell_type": "markdown",
   "metadata": {},
   "source": [
    "## 11. Spojíme to celé\n",
    "\n",
    "Keď už máme všetky funkcie implementované, môžeme ich spojiť a tak vyskúšať fungovanie nášho programu. Postupným zavolaním posledných troch funkcií dokážeme zo súboru s výsledkami vypísať prehľadnú tabuľku. Naše riešenie je dokonca všeobecné, t.j. môžete ho využiť pre ľubovoľný súbor až kým forma zápisu výsledkov je dodržaná."
   ]
  },
  {
   "cell_type": "code",
   "execution_count": null,
   "metadata": {},
   "outputs": [],
   "source": [
    "table = generate_table(\"buli_results.txt\")\n",
    "\n",
    "table = sort_table(table, 'points', ascending=False)\n",
    "\n",
    "print_table(table)"
   ]
  }
 ],
 "metadata": {
  "kernelspec": {
   "display_name": "Python 3",
   "language": "python",
   "name": "python3"
  },
  "language_info": {
   "codemirror_mode": {
    "name": "ipython",
    "version": 3
   },
   "file_extension": ".py",
   "mimetype": "text/x-python",
   "name": "python",
   "nbconvert_exporter": "python",
   "pygments_lexer": "ipython3",
   "version": "3.7.3"
  }
 },
 "nbformat": 4,
 "nbformat_minor": 4
}
