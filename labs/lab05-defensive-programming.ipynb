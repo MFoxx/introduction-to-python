{
 "cells": [
  {
   "cell_type": "markdown",
   "metadata": {},
   "source": [
    "# Cvičenie 5: Defenzívne programovanie\n",
    "\n",
    "Jedna z veľkých životných právd je, že všetko čo sa môže pokaziť, skôr či neskôr sa aj pokazí. Nie je to inak ani s programami, ale vďaka niekoľkým šikovným riešeniam a konštruktom vieme pravdepodobnosť chyby a zlyhania programu o dosť znížiť. Na dnešnom cvičení sa pozrieme na to, ako môžeme predísť chybám v programe, a ako napísať naše kódy tak, aby boli odolné voči nesprávnemu použitiu."
   ]
  },
  {
   "cell_type": "markdown",
   "metadata": {},
   "source": [
    "## 1. Validácia vstupu\n",
    "\n",
    "Prvým základným krokom v defenzívnom programovaní je validácia vstupných údajov. Ak váš kód zdokumentujete dôsledne, dokumentácia bude obsahovať všetky predpoklady vášho kódu, ale aj tak sa môže stať, že používateľ alebo ďalší programátor bude mať inú predstavu o tom, ako váš kód funguje a čo všetko dokáže. Týmto nedorozumeniam môžete predísť poctivou kontrolou všetkých vstupných parametrov vašich funkcií.\n",
    "\n",
    "Ako ukážku použijeme jednoduchú funkciu z druhého cvičenia, `is_prime`, ktorá zistí, či číslo na vstupe je alebo nie je prvočíslo. Jednu z možných implementácií nájdete nižšie. Intuitívnym predpokladom pre funkciu je, že číslo na vstupe bude kladné celé číslo väčšie ako 1, túto kontrolu ale kód nikde neimplementuje.\n",
    "\n",
    "**Úloha:** Doplňte implementáciu funkcie `is_prime` o kontrolu vhodnej formy vstupného parametra: funkcia nech vráti `False` ak číslo na vstupe nie je celé číslo alebo je menšie ako 2."
   ]
  },
  {
   "cell_type": "code",
   "execution_count": null,
   "metadata": {},
   "outputs": [],
   "source": [
    "def is_prime(number):\n",
    "    # returns True if number is prime; False otherwise\n",
    "    for x in range(2, number):\n",
    "        if number % 2 == 0:\n",
    "            return False\n",
    "    return True\n",
    "\n",
    "is_prime(13)\n",
    "is_prime(\"a\")\n",
    "is_prime(-12)"
   ]
  },
  {
   "cell_type": "markdown",
   "metadata": {},
   "source": [
    "Samozrejme vyššie riešenie nie je úplne ideálne, pretože vracia zmysluplnú hodnotu v každom prípade. Tak používateľ nemusí vedieť, či vstup reprezentuje zložené číslo alebo úplne neplatný vstup. Validáciu je preto lepšie riešiť často cez použitie výnimiek.\n",
    "\n",
    "**Úloha:** Validáciu vstupu opravte tak, aby funkcia vyhodila `TypeError`, ak na vstupe nie je celočíselná hodnota, a `ValueError` ak vstup nereprezentuje kladné celé číslo väčšie ako 1."
   ]
  },
  {
   "cell_type": "markdown",
   "metadata": {},
   "source": [
    "Ako ďalší príklad použijeme funkciu, ktorá zistí, či tri čísla môžu predstavovať dĺžky strán reálneho trojuholníka: `is_triangle`. Ukážkovú implementáciu tejto funkcie nájdete nižšie.\n",
    "\n",
    "**Úloha:** Doplňte kód funkcie `is_triangle`, aby ste ošetrili všetky neplatné vstupné hodnoty."
   ]
  },
  {
   "cell_type": "code",
   "execution_count": null,
   "metadata": {},
   "outputs": [],
   "source": [
    "def is_triangle(a, b, c):\n",
    "    # returns True if a, b, c represent the lengths of a valid triangle\n",
    "    sides = [a, b, c]\n",
    "    longest = max(sides)\n",
    "    sides.remove(longest)\n",
    "    return sum(sides) > longest\n",
    "\n",
    "is_triangle(3, 4, 5)"
   ]
  },
  {
   "cell_type": "markdown",
   "metadata": {},
   "source": [
    "## 2. Validácia výstupu\n",
    "\n",
    "Na druhej strane, ak už od používateľa vyžadujeme, aby naše funkcie používal správne, bolo by fér, keby sme dodržiavala aj naše sľuby, teda určenú formu návratovej hodnoty funkcií. Síce každý programátor je presvedčený o tom, že jeho program beží vždy bezchybne a pokrýva všetky možné prípady, skutočnosť je zriedkakedy taká. Práve preto je dobrým zvykom, najmä pri kritických častiach programu, skontrolovať výstup funkcií ešte pred ukončením vykonávania danej funkcie.\n",
    "\n",
    "Spomeňte si na funkciu `load_score` z tretieho cvičenia, ktorá ako vstup zobrala jeden riadok zo súboru s futbalovými výsledkami a vrátila štvoricu údajov: meno domáceho tímu, počet gólov domácich, meno hosšujúceho tímu, počet gólov hostí. Síce intuitívne sme si mysleli, že návratová hodnota bude n-tica reťazcov a celých čísel, pri niektorých vstupoch môžu nastať problémy, vďaka ktorým funkcia buď nevráti žiadnu hodnotu a zlyhá kvôli chybe, alebo vráti hodnotu s inými typmi.\n",
    "\n",
    "**Úloha:** Validujte vstupný parameter a výstup funkcie `load_score` tak, aby spracúvala iba reťazcový vstup vo forme `domáci_tím góly_domácich - góly_hostí hosťujúci_tím`, a vždy vrátila štvoricu hodnôt: meno domáceho tímu (*string*), počet gólov domácich (*int*), meno hosťujúceho tímu (*string*), a počet gólov hostí (*int*). Funkcia nech vyhodí chybu informujúcu používateľa o zlyhaní operácie v prípade akejkoľvek chyby."
   ]
  },
  {
   "cell_type": "code",
   "execution_count": null,
   "metadata": {},
   "outputs": [],
   "source": [
    "def load_score(line):\n",
    "    home_score, away_score = line[:-1].split(' - ')\n",
    "    home_team, home_goals = home_score.rsplit(' ', 1)\n",
    "    away_goals, away_team = away_score.split(' ', 1)\n",
    "    return (home_team, int(home_goals), away_team, int(away_goals))"
   ]
  },
  {
   "cell_type": "markdown",
   "metadata": {},
   "source": [
    "## 3. Defenzívny kód\n",
    "\n",
    "V tomto kroku implementujete jednoduchý program, ktorý spracuje zoznam dvojíc a vypočíta priemer hodnôt podľa kategórií. Každá n-tice v zozname obsahuje dve hodnoty: prvá hodnota udáva kategóriu, a druhá je hodnota, pomocou ktorej vypočítate priemer.\n",
    "\n",
    "Vaše riešenie obsahuje tri funkcie:\n",
    "* `validate_data`: skontroluje dodržanie predpokladov na vstupné hodnoty (`data_list`), t.j. zoznam dvojíc, kde prvý člen dvojice je string s hodnotou `M` alebo `F`, a druhá hodnota je kladné celé číslo;\n",
    "* `split_data`: rozdelí vstupné hodnoty (`data_list`) do dictionary podľa kategórií; prvá hodnota udáva kategóriu, druhá sa pridá do zoznamu hodnôt pre danú kategóriu. Návratová hodnota je dictionary, kde kľúče sú reťazce reprezentujúce kategórie a hodnoty sú zoznamy celočíselných hodnôt;\n",
    "* `calculate_averages`: vypočíta priemernú hodnou pre všetky kategórie, ako vstup (`data`) dostane dictionary, ktorý spĺňa podmienky výstupu funkcie `split_data`. Výstupom je zoznam dvojíc, kde prvá hodnota je reťazec reprezentujúci kategóriu a druhá hodnota je priemer číselných hodnôt pre danú kategóriu v `data`.\n",
    "\n",
    "**Úloha:** Implementujte funkcie `validate_data`, `split_data` a `calculate_averages` podľa dokumentácie a dodržaním princípov defenzívneho programovania. [Kostra riešenia je dostupná aj ako súbor.](sources/lab05/lab05.py)"
   ]
  },
  {
   "cell_type": "code",
   "execution_count": null,
   "metadata": {},
   "outputs": [],
   "source": [
    "test1 = [\n",
    "    ('M', 34), ('F', 42), ('M', 23), ('F', 26), ('M', 42), ('F', 27),\n",
    "    ('M', 17), ('F', 28), ('M', 32), ('F', 41), ('M', 56), ('F', 62),\n",
    "    ('M', 28), ('F', 55), ('M', 33), ('F', 32), ('M', 26), ('F', 14),\n",
    "    ('M', 19), ('F', 22), ('M', 21), ('F', 37), ('M', 38), ('F', 45),\n",
    "    ('M', 34), ('F', 41), ('M', 29), ('F', 31), ('M', 30), ('F', 20),\n",
    "    ('F', 52), ('F', 29), ('F', 38)\n",
    "]\n",
    "\n",
    "\n",
    "def validate_data(data_list):\n",
    "    # checks if data conforms to the rules:\n",
    "    # input is a list of tuples, where\n",
    "    # the first element must be a string (either M or F)\n",
    "    # the second element is an integer bigger than zero\n",
    "    # returns True if data are valid, False otherwise\n",
    "    pass\n",
    "\n",
    "\n",
    "def split_data(data_list):\n",
    "    # splits data into categories and stores them in a dictionary\n",
    "    # returns the dictionary\n",
    "    pass\n",
    "\n",
    "\n",
    "def calculate_averages(data):\n",
    "    # calculates the average for all categories in a dictionary\n",
    "    # returns the averages as a list of tuples with pairs: category - average\n",
    "    # returns None if input is not dictionary\n",
    "    pass\n",
    "\n",
    "\n",
    "if validate_data(test1):\n",
    "    data_dct = split_data(test1)\n",
    "    avgs = calculate_averages(data_dct)\n",
    "    for cat, avg in avgs:\n",
    "        print(\"Category {}, average: {:.2f}\".format(cat, avg))\n"
   ]
  },
  {
   "cell_type": "markdown",
   "metadata": {},
   "source": [
    "## 4. Defenzívne programovanie s použitím výnimiek\n",
    "\n",
    "**Úloha:** Upravte vaše riešenia z tretieho cvičenia tak, že pridáte generovanie výnimiek, ktoré používateľa budú informovať o zlyhaní programu a jeho príčiny. Vaše riešenia porovnajte.\n",
    "\n",
    "[Ako kód môžete použiť aj ukážkové riešenie z minulého týždňa.](sources/lab04/lab03_solution.py)"
   ]
  }
 ],
 "metadata": {
  "kernelspec": {
   "display_name": "Python 3",
   "language": "python",
   "name": "python3"
  },
  "language_info": {
   "codemirror_mode": {
    "name": "ipython",
    "version": 3
   },
   "file_extension": ".py",
   "mimetype": "text/x-python",
   "name": "python",
   "nbconvert_exporter": "python",
   "pygments_lexer": "ipython3",
   "version": "3.7.3"
  }
 },
 "nbformat": 4,
 "nbformat_minor": 4
}
