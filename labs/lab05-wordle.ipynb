{
 "cells": [
  {
   "cell_type": "markdown",
   "metadata": {},
   "source": [
    "# Cvičenie 5: Wordle"
   ]
  },
  {
   "cell_type": "markdown",
   "metadata": {},
   "source": [
    "Wordle je jednoduchá webová hra, ktorá sa stala populárnou v posledných rokoch. Cieľom hry je uhádnuť päťpísmenové slovo na šesť pokusov, pričom hra po každom pokuse prezradí, či náš tip obsahuje správne písmená, a či tie sú na správnom mieste. Na základe tejto spätnej väzby vieme eliminovať možné riešenia, a tak sa dopracovať ku skrytému slovu. [Ak s hrou ešte nemáte skúsenosti, môžete si ju vyskúšať tu.](https://wordlegame.org)"
   ]
  },
  {
   "cell_type": "markdown",
   "metadata": {},
   "source": [
    "<img src=\"sources/lab05/wordle_example.png\" width=\"600\">\n",
    "\n",
    "<p style=\"text-align: center;\">Zdroj: https://en.wikipedia.org/wiki/Wordle#/media/File:Wordle_196_example.svg</p>"
   ]
  },
  {
   "cell_type": "markdown",
   "metadata": {},
   "source": [
    "Príklad hry môžete vidieť na obrázku vyššie. Skryté slovo je *rebus*. Prvý pokus hráča bol *arise*. Farby jednotlivých písmen reprezentujú informácie o správnosti písmen a ich pozícií. Napríklad pri slove *arise* sa písmená *r*, *s* a *e* nachádzajú aj v správnom riešení *rebus*, nie sú ale na správnej pozícii. Zvyšné sivé písmená sa v správnom riešení nenachádzajú. V ďalšom pokuse hráč zadal slovo *route*, v ktorom písmeno *r* je už na správnej pozícii a ďalej sa dozvedel aj to, že riešenie obsahuje aj písmeno *u*. Takýmto štýlom hráč pokračuje, až kým nenájde správne slovo, alebo nevyužije všetkých šesť pokusov. V štandardnej verzii hry hráč môže zadať ľubovoľné slovo zo sady známych slov. Ak hráč zadá neplatné slovo, môže pokračovať bez toho, aby prišiel o pokus.\n",
    "\n",
    "Pred začatím implementácie si potrebujete stiahnuť [súbor so zoznamom akceptovaných slov](sources/lab05/word_list.txt). [Následne si môžete stiahnuť kostru riešenia](sources/lab05/lab05.py), alebo pracovať v tomto notebooku."
   ]
  },
  {
   "cell_type": "markdown",
   "metadata": {},
   "source": [
    "## 1. Načítanie slov\n",
    "\n",
    "Základom hry bude súbor so sadou prijateľných slov. Príklad pre takýto súbor nájdete vyššie (`word_list.txt`): každý riadok obsahuje jedno slovo a na konci súboru sa nachádza prázdny riadok.\n",
    "\n",
    "V prvom kroku implementujete funkciu `load_words`, ktorá načíta zoznam slov akceptovaných hrou. Funkcia má jeden parameter (`dataset_path`) – cestu k súboru, v ktorom sa nachádzajú podporované slová. Funkcia vracia zoznam slov, pričom jednotlivé prvky zoznamu sú reťazce s dĺžkou 5."
   ]
  },
  {
   "cell_type": "code",
   "execution_count": 13,
   "outputs": [],
   "source": [
    "import pandas as pd"
   ],
   "metadata": {
    "collapsed": false
   }
  },
  {
   "cell_type": "code",
   "execution_count": 14,
   "metadata": {},
   "outputs": [],
   "source": [
    "def load_words(dataset_path):\n",
    "    try:\n",
    "        data = pd.read_csv(dataset_path, engine='python', sep=\" \", header=None)[0].to_list()\n",
    "        return data\n",
    "    except:\n",
    "        return None\n"
   ]
  },
  {
   "cell_type": "markdown",
   "metadata": {},
   "source": [
    "## 2. Začatie a ukončenie hry\n",
    "\n",
    "K samotnej hre potrebujeme ďalšie dve jednoduché pomocné funkcie. Najprv implementujte funkciu `get_puzzle`, ktorá zo zoznamu slov, ktorý dostane ako parameter `word_list`, vyberie náhodné slovo, ktoré bude slúžiť ako hľadané riešenie. Funkcia má jednu návratovú hodnotu: slovo, teda string s dĺžkou päť. Pre náhodný výber použite štandardný modul `random`, ktorý už máte naimportovaný.\n",
    "\n",
    "Dôležitou funkcionalitou je zabezpečiť, aby sme zistili, či hráč už uhádol správne riešenie. K tomu slúži funkcia `is_game_finished` s dvoma parametrami:\n",
    " - `guess` – reťazec reprezentujúci tip hráča;\n",
    " - `puzzle` – reťazec reprezentujúci správne riešenie.\n",
    "Funkcia vracia hodnotu `True`, ak hráč slovo uhádol, v opačnom prípade vráti `False`.\n",
    "\n",
    "**Poznámka:** Nezabudnite, že hráč môže svoj tip napísať aj veľkými písmenami, v takomto prípade ale musíte jeho tip vyhodnotiť takisto správne."
   ]
  },
  {
   "cell_type": "code",
   "execution_count": 15,
   "metadata": {},
   "outputs": [],
   "source": [
    "import random\n",
    "\n",
    "def get_puzzle(word_list):\n",
    "    return word_list[random.randrange(len(word_list))]\n",
    "\n",
    "def is_game_finished(guess, puzzle):\n",
    "    return guess.lower() == puzzle\n"
   ]
  },
  {
   "cell_type": "markdown",
   "metadata": {},
   "source": [
    "## 3. Vyhodnotenie tipu\n",
    "\n",
    "Poslednou funkciou k jednoduchej implementácii je `evaluate_guess`, ktorá vyhodnotí tip hráča a vráti mu informácie o správnosti písmen a ich pozícií. Funkcia má rovnaké parametre ako `is_game_finished`, teda tip hráča (`guess`) a správne riešenie (`puzzle`). Návratová hodnote je ale trošku zložitejšia – bude to zoznam n-tíc (*list of tuples*), ktorý reprezentuje spätnú väzbu po vyhodnotení tipu a to tak, že pre každé písmeno sa vytvorí trojica hodnôt:\n",
    " - písmeno – reťazec s dĺžkou 1\n",
    " - informácia o tom, či sa dané písmeno nachádza v riešení – booleovská hodnota `True/False`\n",
    " - informácia o tom, či dané písmeno je na správnej pozícii – booleovská hodnota `True/False`; ak sa písmeno v riešení nenachádza, bude `False`, keďže písmeno je na nesprávnej pozícii.\n",
    "\n",
    "V našom príklade teda tip route by sme vyhodnotili nasledovne:\n",
    "`[('r', True, True), ('o', False, False), ('u', True, False), ('t', False, False), ('e', True, False)]`\n",
    "\n",
    "Ak hráč uhádne správne slovo, všetky booleovské hodnoty budú `True`, ak zadá slovo, ktoré nemá žiadne písmeno spoločné s riešením, všetky hodnoty budú `False`.\n",
    "\n",
    "**Poznámka:** Pri príprave vyhodnotenia musíte dodržujte poradie písmen v slove. Zatiaľ neriešte opakujúce sa písmená."
   ]
  },
  {
   "cell_type": "code",
   "execution_count": 16,
   "metadata": {},
   "outputs": [
    {
     "name": "stdout",
     "output_type": "stream",
     "text": [
      "[('d', True, True), ('a', True, True), ('t', True, True), ('a', True, True)]\n"
     ]
    }
   ],
   "source": [
    "def evaluate_guess(guess, puzzle):\n",
    "    final_list = []\n",
    "    for index, guessChar in enumerate(list(guess)):\n",
    "        found = False\n",
    "        position = False\n",
    "\n",
    "        if guessChar in list(puzzle):\n",
    "            found = True\n",
    "            if list(puzzle)[index] == guessChar:\n",
    "                position = True\n",
    "        final_list.append((guessChar, found, position))\n",
    "\n",
    "    return final_list\n",
    "\n",
    "print(evaluate_guess('data', 'data'))"
   ]
  },
  {
   "cell_type": "markdown",
   "metadata": {},
   "source": [
    "## 4. Zahrajme si Wordle\n",
    "\n",
    "Teraz už máme implementované všetky podporné funkcie, vieme sa teda spustiť do implementácie hry Wordle. Zadefinujte teda funkciu `start_game` s parametrom `dataset_path`, ktorá zastrešuje celú hru a to nasledovne:\n",
    "\n",
    "1. načíta zoznam povolených slov zo súboru, ktorý dostane v parametri;\n",
    "2. vyberie náhodné slovo zo zoznamu, ktoré bude slúžiť ako hľadané riešenie;\n",
    "3. vykoná sa maximálne šesť kôl, pričom v každom kole:\n",
    "\n",
    "    1. používateľ môže zadať svoj tip - ak tip nie je zo zoznamu povolených slov, hráč je opätovne vyzvaný na zadanie svojho tipu bez toho, aby prišiel o možnosť tipnúť si (neráta sa to do šiestich pokusov);\n",
    "    2. vyhodnotí sa hráčov tip a výsledok sa vypíše na obrazovku (iba vypíšte programovú reprezentáciu, nepotrebujete ju nijak upravovať);\n",
    "    3. ak hráč uhádne slovo, vypíšte o tom správu a ukončite hru; ak hráč minul všetky možnosti ale slovo neodhalil, informujte ho o prehre, a hru tiež ukončite.\n",
    "    \n",
    "**Poznámka:** Pre jednoduchosť testovania môžete vypísať hľadané slovo hneď na začiatku, aby ste mohli overiť správnosť podporných funkcií."
   ]
  },
  {
   "cell_type": "code",
   "execution_count": 17,
   "metadata": {},
   "outputs": [
    {
     "name": "stdout",
     "output_type": "stream",
     "text": [
      "[('a', True, False), ('b', False, False), ('o', False, False), ('v', False, False), ('e', False, False)]\n",
      "[('s', False, False), ('p', False, False), ('e', False, False), ('n', False, False), ('d', False, False)]\n",
      "[('c', True, True), ('l', False, False), ('e', False, False), ('a', True, False), ('n', False, False)]\n",
      "[('s', False, False), ('m', False, False), ('a', True, False), ('l', False, False), ('l', False, False)]\n",
      "[('c', True, True), ('a', True, False), ('r', True, True), ('r', True, False), ('y', False, False)]\n",
      "[('c', True, True), ('a', True, False), ('t', False, False), ('c', True, True), ('h', False, False)]\n",
      "Sorry, you lost. The word was circa!\n"
     ]
    }
   ],
   "source": [
    "def start_game(dataset_path):\n",
    "    try:\n",
    "        words = load_words(dataset_path)\n",
    "        if words is None:\n",
    "            print('Error loading dataset - Wrong dataset path.')\n",
    "            return None\n",
    "        chosen_word = get_puzzle(words)\n",
    "        rounds = 0\n",
    "        won = False\n",
    "        while rounds < 6 and not won:\n",
    "            guess = input('Whats your guess: ')\n",
    "            if len(guess) != 5:\n",
    "                print('Guess needs to be 5 characters')\n",
    "                continue\n",
    "\n",
    "            if is_game_finished(guess, chosen_word):\n",
    "                print('Congratulations, you won with guess {}'.format(guess))\n",
    "                won = True\n",
    "                break\n",
    "\n",
    "            print(evaluate_guess(guess, chosen_word))\n",
    "            rounds += 1\n",
    "\n",
    "        if not won:\n",
    "            print('Sorry, you lost. The word was {}!'.format(chosen_word))\n",
    "    except:\n",
    "        print(\"Something went wrong! Try again later.\")\n",
    "        return None\n",
    "\n",
    "\n",
    "\n",
    "start_game(\"sources/lab05/word_list.txt\");"
   ]
  },
  {
   "cell_type": "markdown",
   "metadata": {},
   "source": [
    "## 5. Ošetrenie riešenia\n",
    "\n",
    "Vaša implementácia je bez pochýb perfektne funkčná, avšak aj najlepší kód môže zlyhať, ak mu dáte nesprávne vstupy a hodnoty na spracovanie. Upravte svoje riešenie tak, aby v žiadnom prípade nekončil chybou. Možné chyby ošetrite pomocou bloku `try-except`, v chybných prípadoch používateľovi poskytnite informatívnu správu o tom, čo sa pokazilo, a program ukončite riadne (teda program nesmie padať).\n",
    "\n",
    "**Prediskutujte jednotlivé funkcie, predpoklady na vstup a výstup, validujte všetky vstupy pre správnosť typu a hodnôt, a ak používate štandardné funkcie, zistite, za akých okolností fungujú správne.**"
   ]
  },
  {
   "cell_type": "markdown",
   "metadata": {},
   "source": [
    "## Doplňujúce úlohy\n",
    "\n",
    "Je známym faktom, že programátori sú leniví, a aj keď je Wordle zábavná hra a skvelý spôsob na prokrastináciu, skôr či neskôr im napadne implementovať inteligentného bota, ktorý by túto hru zahral za nich a omnoho efektívnejšie. V tejto úlohe vytvoríte jedného takéhoto bota.\n",
    "\n",
    "Prvým krokom je implementovať funkciu `get_player_guess`, ktorá zo zoznamu slov `word_list` (formát rovnaký ako po načítaní funkciou `load_words`), ktorý dostane ako parameter, vyberie zoznam možných riešení a náhodný tip. Funkcia má teda dve návratové hodnoty:\n",
    " - zoznam možných riešení – zoznam reťazcov, kde každý reťazec je päťpísmenové slovo; nepracujte priamo s parametrom `word_list`, ale vlastným zoznamom alebo kópiou `word_list`u.\n",
    " - tip – reťazec, teda náhodné slovo zo zoznamu možných riešení.\n",
    "\n",
    "Bot eliminuje možnosti na základe získaných vedomostí o správnom riešení, ktoré sú reprezentované v zozname `knowledge`, ktorý dostane ako parameter. Tento zoznam je inicializovaný na začiatku hry a je to zoznam trojíc, kde každá trojica reprezentuje informáciu o jednotlivých možných písmenách podobne ako pri funkcii `evaluate_guess`.\n",
    "\n",
    "Trojica má nasledovnú štruktúru:\n",
    " - písmeno – string s dĺžkou 1\n",
    " - informácia o tom, či sa písmeno nachádza v slove – inicializovaná na `None`, neskôr nahradíte hodnotu booleovskými hodnotami `True/False`\n",
    " - informácia o pozícii písmena v správnom riešení – inicializovaná na -1, neskôr nahradíte platným indexom 0 až 4. Poznámka: tento bot nebude rátať s možnosťou viacnásobného výskytu písmena v slove, teda tretia hodnota bude vždy iba jedno číslo.\n",
    "\n",
    "Na základe týchto vedomostí by mala funkcia `get_player_guess` eliminovať možnosti nasledovne:\n",
    " 1. vymazať zo zoznamu možných riešení slová, ktoré neobsahujú písmená, o ktorých vie, že sa nachádzajú v správnom riešení na základe zoznamu `knowledge`\n",
    " 2. vymazať zo zoznamu možných riešení slová, ktoré obsahujú písmená, o ktorých vie, že sa nenachádzajú v správnom riešení na základe zoznamu `knowledge`\n",
    " 3. vymazať zo zoznamu možných riešení slová, ktoré nemajú správne písmeno na niektorej pozícii, o ktorej už vie, aké tam bude písmeno.\n",
    "\n",
    "Pre jednoduchosť uvedieme aj jeden príklad. Po prvých dvoch pokusoch uvedených v príklade vyššie hráč už vie, že riešenie určite obsahuje písmená *r*, *s*, *e*, *u* a na prvej pozícii je písmeno *r*. Na základe jednotlivých pravidiel by teda eliminoval napríklad:\n",
    " 1. slovo *table*, ktoré neobsahuje potrebné písmená *r*, *s*, *u*\n",
    " 2. slovo *braid*, ktoré obsahuje písmeno *a*, o ktorom už hráč vie, že sa v riešení nenachádza\n",
    " 3. slovo *trout*, keďže hráč už vie, že na prvej pozícii musí byť písmeno *r*\n",
    "\n",
    "Po eliminácii niektorých možných riešení, bot vyberie náhodné slovo zo zoznamu a vráti hodnoty podľa špecifikácie funkcie.\n",
    "\n",
    "Samozrejme bot má šancu hru vyhrať iba vtedy, ak bude postupne aktualizovať reprezentáciu svojich vedomostí o hľadanom slove. K tomu slúži funkcia `process_result` s parametrom `result`, ktorý obsahuje spätnú väzbu od hry, ktorá je vygenerovaná funkciou `evaluate_guess` (formát sa nemení). Funkcia postupne spracuje informácie o všetkých písmenách z posledného tipu a to nasledovne:\n",
    " 1. aktualizuje informáciu o tom, či sa písmeno nachádza alebo nenachádza v správnom riešení\n",
    " 2. ak je písmeno aj na správnej pozícii, aktualizuje tento údaj v zozname `knowledge`.\n",
    "\n",
    "Funkcia `process_result` nemá návratovú hodnotu, aktualizujte priamo zoznam `knowledge`.\n",
    "\n",
    "**Poznámka:** Nezabudnite, že zoznam knowledge obsahuje n-tice, ktoré sú nemenné. Práve preto pri spracovaní spätnej väzby musíte vytvoriť novú n-ticu a uložiť ju na správne miesto v zozname knowledge. Poradie informácií o písmenách v zozname má pritom ostať rovnaké, t.j. najprv budete mať vedomosti o výskyte písmena *a*, písmena *b*, atď.\n",
    "\n",
    "Po implementovaní týchto dvoch funkcií máte bota hotového, môžete jeho funkčnosť vyskúšať pomocou nasimulovanej hry. Funkcia je veľmi podobná funkcii `start_game` – vstup od hráča je ale nahradený vstupom od bota. Počas hry sa takisto vypíše zoznam možných riešení, ktorý bude stále kratší ako bot spracuje informácie, ktoré sa dozvie o hľadanom slove."
   ]
  },
  {
   "cell_type": "code",
   "execution_count": 18,
   "metadata": {},
   "outputs": [
    {
     "ename": "FileNotFoundError",
     "evalue": "[Errno 2] No such file or directory: 'word_list.txt'",
     "output_type": "error",
     "traceback": [
      "\u001B[0;31m---------------------------------------------------------------------------\u001B[0m",
      "\u001B[0;31mFileNotFoundError\u001B[0m                         Traceback (most recent call last)",
      "Cell \u001B[0;32mIn[18], line 42\u001B[0m\n\u001B[1;32m     37\u001B[0m         \u001B[38;5;28mprint\u001B[39m(result)\n\u001B[1;32m     39\u001B[0m         process_result(result, player_knowledge)\n\u001B[0;32m---> 42\u001B[0m \u001B[43mbot_game\u001B[49m\u001B[43m(\u001B[49m\u001B[38;5;124;43m\"\u001B[39;49m\u001B[38;5;124;43mword_list.txt\u001B[39;49m\u001B[38;5;124;43m\"\u001B[39;49m\u001B[43m)\u001B[49m\n",
      "Cell \u001B[0;32mIn[18], line 19\u001B[0m, in \u001B[0;36mbot_game\u001B[0;34m(dataset_path)\u001B[0m\n\u001B[1;32m     18\u001B[0m \u001B[38;5;28;01mdef\u001B[39;00m \u001B[38;5;21mbot_game\u001B[39m(dataset_path):\n\u001B[0;32m---> 19\u001B[0m     word_list \u001B[38;5;241m=\u001B[39m \u001B[43mload_words\u001B[49m\u001B[43m(\u001B[49m\u001B[43mdataset_path\u001B[49m\u001B[43m)\u001B[49m\n\u001B[1;32m     20\u001B[0m     player_words \u001B[38;5;241m=\u001B[39m word_list\u001B[38;5;241m.\u001B[39mcopy()\n\u001B[1;32m     22\u001B[0m     PLAYER_KNOWLEDGE \u001B[38;5;241m=\u001B[39m [(letter, \u001B[38;5;28;01mNone\u001B[39;00m, \u001B[38;5;241m-\u001B[39m\u001B[38;5;241m1\u001B[39m)\n\u001B[1;32m     23\u001B[0m                         \u001B[38;5;28;01mfor\u001B[39;00m letter \u001B[38;5;129;01min\u001B[39;00m string\u001B[38;5;241m.\u001B[39mascii_lowercase]\n",
      "Cell \u001B[0;32mIn[14], line 2\u001B[0m, in \u001B[0;36mload_words\u001B[0;34m(dataset_path)\u001B[0m\n\u001B[1;32m      1\u001B[0m \u001B[38;5;28;01mdef\u001B[39;00m \u001B[38;5;21mload_words\u001B[39m(dataset_path):\n\u001B[0;32m----> 2\u001B[0m     data \u001B[38;5;241m=\u001B[39m \u001B[43mpd\u001B[49m\u001B[38;5;241;43m.\u001B[39;49m\u001B[43mread_csv\u001B[49m\u001B[43m(\u001B[49m\u001B[43mdataset_path\u001B[49m\u001B[43m,\u001B[49m\u001B[43m \u001B[49m\u001B[43mengine\u001B[49m\u001B[38;5;241;43m=\u001B[39;49m\u001B[38;5;124;43m'\u001B[39;49m\u001B[38;5;124;43mpython\u001B[39;49m\u001B[38;5;124;43m'\u001B[39;49m\u001B[43m,\u001B[49m\u001B[43m \u001B[49m\u001B[43msep\u001B[49m\u001B[38;5;241;43m=\u001B[39;49m\u001B[38;5;124;43m\"\u001B[39;49m\u001B[38;5;124;43m \u001B[39;49m\u001B[38;5;124;43m\"\u001B[39;49m\u001B[43m,\u001B[49m\u001B[43m \u001B[49m\u001B[43mheader\u001B[49m\u001B[38;5;241;43m=\u001B[39;49m\u001B[38;5;28;43;01mNone\u001B[39;49;00m\u001B[43m)\u001B[49m[\u001B[38;5;241m0\u001B[39m]\u001B[38;5;241m.\u001B[39mto_list()\n\u001B[1;32m      3\u001B[0m     \u001B[38;5;28;01mreturn\u001B[39;00m data\n",
      "File \u001B[0;32m~/mambaforge/envs/mlp/lib/python3.9/site-packages/pandas/util/_decorators.py:211\u001B[0m, in \u001B[0;36mdeprecate_kwarg.<locals>._deprecate_kwarg.<locals>.wrapper\u001B[0;34m(*args, **kwargs)\u001B[0m\n\u001B[1;32m    209\u001B[0m     \u001B[38;5;28;01melse\u001B[39;00m:\n\u001B[1;32m    210\u001B[0m         kwargs[new_arg_name] \u001B[38;5;241m=\u001B[39m new_arg_value\n\u001B[0;32m--> 211\u001B[0m \u001B[38;5;28;01mreturn\u001B[39;00m \u001B[43mfunc\u001B[49m\u001B[43m(\u001B[49m\u001B[38;5;241;43m*\u001B[39;49m\u001B[43margs\u001B[49m\u001B[43m,\u001B[49m\u001B[43m \u001B[49m\u001B[38;5;241;43m*\u001B[39;49m\u001B[38;5;241;43m*\u001B[39;49m\u001B[43mkwargs\u001B[49m\u001B[43m)\u001B[49m\n",
      "File \u001B[0;32m~/mambaforge/envs/mlp/lib/python3.9/site-packages/pandas/util/_decorators.py:331\u001B[0m, in \u001B[0;36mdeprecate_nonkeyword_arguments.<locals>.decorate.<locals>.wrapper\u001B[0;34m(*args, **kwargs)\u001B[0m\n\u001B[1;32m    325\u001B[0m \u001B[38;5;28;01mif\u001B[39;00m \u001B[38;5;28mlen\u001B[39m(args) \u001B[38;5;241m>\u001B[39m num_allow_args:\n\u001B[1;32m    326\u001B[0m     warnings\u001B[38;5;241m.\u001B[39mwarn(\n\u001B[1;32m    327\u001B[0m         msg\u001B[38;5;241m.\u001B[39mformat(arguments\u001B[38;5;241m=\u001B[39m_format_argument_list(allow_args)),\n\u001B[1;32m    328\u001B[0m         \u001B[38;5;167;01mFutureWarning\u001B[39;00m,\n\u001B[1;32m    329\u001B[0m         stacklevel\u001B[38;5;241m=\u001B[39mfind_stack_level(),\n\u001B[1;32m    330\u001B[0m     )\n\u001B[0;32m--> 331\u001B[0m \u001B[38;5;28;01mreturn\u001B[39;00m \u001B[43mfunc\u001B[49m\u001B[43m(\u001B[49m\u001B[38;5;241;43m*\u001B[39;49m\u001B[43margs\u001B[49m\u001B[43m,\u001B[49m\u001B[43m \u001B[49m\u001B[38;5;241;43m*\u001B[39;49m\u001B[38;5;241;43m*\u001B[39;49m\u001B[43mkwargs\u001B[49m\u001B[43m)\u001B[49m\n",
      "File \u001B[0;32m~/mambaforge/envs/mlp/lib/python3.9/site-packages/pandas/io/parsers/readers.py:950\u001B[0m, in \u001B[0;36mread_csv\u001B[0;34m(filepath_or_buffer, sep, delimiter, header, names, index_col, usecols, squeeze, prefix, mangle_dupe_cols, dtype, engine, converters, true_values, false_values, skipinitialspace, skiprows, skipfooter, nrows, na_values, keep_default_na, na_filter, verbose, skip_blank_lines, parse_dates, infer_datetime_format, keep_date_col, date_parser, dayfirst, cache_dates, iterator, chunksize, compression, thousands, decimal, lineterminator, quotechar, quoting, doublequote, escapechar, comment, encoding, encoding_errors, dialect, error_bad_lines, warn_bad_lines, on_bad_lines, delim_whitespace, low_memory, memory_map, float_precision, storage_options)\u001B[0m\n\u001B[1;32m    935\u001B[0m kwds_defaults \u001B[38;5;241m=\u001B[39m _refine_defaults_read(\n\u001B[1;32m    936\u001B[0m     dialect,\n\u001B[1;32m    937\u001B[0m     delimiter,\n\u001B[0;32m   (...)\u001B[0m\n\u001B[1;32m    946\u001B[0m     defaults\u001B[38;5;241m=\u001B[39m{\u001B[38;5;124m\"\u001B[39m\u001B[38;5;124mdelimiter\u001B[39m\u001B[38;5;124m\"\u001B[39m: \u001B[38;5;124m\"\u001B[39m\u001B[38;5;124m,\u001B[39m\u001B[38;5;124m\"\u001B[39m},\n\u001B[1;32m    947\u001B[0m )\n\u001B[1;32m    948\u001B[0m kwds\u001B[38;5;241m.\u001B[39mupdate(kwds_defaults)\n\u001B[0;32m--> 950\u001B[0m \u001B[38;5;28;01mreturn\u001B[39;00m \u001B[43m_read\u001B[49m\u001B[43m(\u001B[49m\u001B[43mfilepath_or_buffer\u001B[49m\u001B[43m,\u001B[49m\u001B[43m \u001B[49m\u001B[43mkwds\u001B[49m\u001B[43m)\u001B[49m\n",
      "File \u001B[0;32m~/mambaforge/envs/mlp/lib/python3.9/site-packages/pandas/io/parsers/readers.py:605\u001B[0m, in \u001B[0;36m_read\u001B[0;34m(filepath_or_buffer, kwds)\u001B[0m\n\u001B[1;32m    602\u001B[0m _validate_names(kwds\u001B[38;5;241m.\u001B[39mget(\u001B[38;5;124m\"\u001B[39m\u001B[38;5;124mnames\u001B[39m\u001B[38;5;124m\"\u001B[39m, \u001B[38;5;28;01mNone\u001B[39;00m))\n\u001B[1;32m    604\u001B[0m \u001B[38;5;66;03m# Create the parser.\u001B[39;00m\n\u001B[0;32m--> 605\u001B[0m parser \u001B[38;5;241m=\u001B[39m \u001B[43mTextFileReader\u001B[49m\u001B[43m(\u001B[49m\u001B[43mfilepath_or_buffer\u001B[49m\u001B[43m,\u001B[49m\u001B[43m \u001B[49m\u001B[38;5;241;43m*\u001B[39;49m\u001B[38;5;241;43m*\u001B[39;49m\u001B[43mkwds\u001B[49m\u001B[43m)\u001B[49m\n\u001B[1;32m    607\u001B[0m \u001B[38;5;28;01mif\u001B[39;00m chunksize \u001B[38;5;129;01mor\u001B[39;00m iterator:\n\u001B[1;32m    608\u001B[0m     \u001B[38;5;28;01mreturn\u001B[39;00m parser\n",
      "File \u001B[0;32m~/mambaforge/envs/mlp/lib/python3.9/site-packages/pandas/io/parsers/readers.py:1442\u001B[0m, in \u001B[0;36mTextFileReader.__init__\u001B[0;34m(self, f, engine, **kwds)\u001B[0m\n\u001B[1;32m   1439\u001B[0m     \u001B[38;5;28mself\u001B[39m\u001B[38;5;241m.\u001B[39moptions[\u001B[38;5;124m\"\u001B[39m\u001B[38;5;124mhas_index_names\u001B[39m\u001B[38;5;124m\"\u001B[39m] \u001B[38;5;241m=\u001B[39m kwds[\u001B[38;5;124m\"\u001B[39m\u001B[38;5;124mhas_index_names\u001B[39m\u001B[38;5;124m\"\u001B[39m]\n\u001B[1;32m   1441\u001B[0m \u001B[38;5;28mself\u001B[39m\u001B[38;5;241m.\u001B[39mhandles: IOHandles \u001B[38;5;241m|\u001B[39m \u001B[38;5;28;01mNone\u001B[39;00m \u001B[38;5;241m=\u001B[39m \u001B[38;5;28;01mNone\u001B[39;00m\n\u001B[0;32m-> 1442\u001B[0m \u001B[38;5;28mself\u001B[39m\u001B[38;5;241m.\u001B[39m_engine \u001B[38;5;241m=\u001B[39m \u001B[38;5;28;43mself\u001B[39;49m\u001B[38;5;241;43m.\u001B[39;49m\u001B[43m_make_engine\u001B[49m\u001B[43m(\u001B[49m\u001B[43mf\u001B[49m\u001B[43m,\u001B[49m\u001B[43m \u001B[49m\u001B[38;5;28;43mself\u001B[39;49m\u001B[38;5;241;43m.\u001B[39;49m\u001B[43mengine\u001B[49m\u001B[43m)\u001B[49m\n",
      "File \u001B[0;32m~/mambaforge/envs/mlp/lib/python3.9/site-packages/pandas/io/parsers/readers.py:1735\u001B[0m, in \u001B[0;36mTextFileReader._make_engine\u001B[0;34m(self, f, engine)\u001B[0m\n\u001B[1;32m   1733\u001B[0m     \u001B[38;5;28;01mif\u001B[39;00m \u001B[38;5;124m\"\u001B[39m\u001B[38;5;124mb\u001B[39m\u001B[38;5;124m\"\u001B[39m \u001B[38;5;129;01mnot\u001B[39;00m \u001B[38;5;129;01min\u001B[39;00m mode:\n\u001B[1;32m   1734\u001B[0m         mode \u001B[38;5;241m+\u001B[39m\u001B[38;5;241m=\u001B[39m \u001B[38;5;124m\"\u001B[39m\u001B[38;5;124mb\u001B[39m\u001B[38;5;124m\"\u001B[39m\n\u001B[0;32m-> 1735\u001B[0m \u001B[38;5;28mself\u001B[39m\u001B[38;5;241m.\u001B[39mhandles \u001B[38;5;241m=\u001B[39m \u001B[43mget_handle\u001B[49m\u001B[43m(\u001B[49m\n\u001B[1;32m   1736\u001B[0m \u001B[43m    \u001B[49m\u001B[43mf\u001B[49m\u001B[43m,\u001B[49m\n\u001B[1;32m   1737\u001B[0m \u001B[43m    \u001B[49m\u001B[43mmode\u001B[49m\u001B[43m,\u001B[49m\n\u001B[1;32m   1738\u001B[0m \u001B[43m    \u001B[49m\u001B[43mencoding\u001B[49m\u001B[38;5;241;43m=\u001B[39;49m\u001B[38;5;28;43mself\u001B[39;49m\u001B[38;5;241;43m.\u001B[39;49m\u001B[43moptions\u001B[49m\u001B[38;5;241;43m.\u001B[39;49m\u001B[43mget\u001B[49m\u001B[43m(\u001B[49m\u001B[38;5;124;43m\"\u001B[39;49m\u001B[38;5;124;43mencoding\u001B[39;49m\u001B[38;5;124;43m\"\u001B[39;49m\u001B[43m,\u001B[49m\u001B[43m \u001B[49m\u001B[38;5;28;43;01mNone\u001B[39;49;00m\u001B[43m)\u001B[49m\u001B[43m,\u001B[49m\n\u001B[1;32m   1739\u001B[0m \u001B[43m    \u001B[49m\u001B[43mcompression\u001B[49m\u001B[38;5;241;43m=\u001B[39;49m\u001B[38;5;28;43mself\u001B[39;49m\u001B[38;5;241;43m.\u001B[39;49m\u001B[43moptions\u001B[49m\u001B[38;5;241;43m.\u001B[39;49m\u001B[43mget\u001B[49m\u001B[43m(\u001B[49m\u001B[38;5;124;43m\"\u001B[39;49m\u001B[38;5;124;43mcompression\u001B[39;49m\u001B[38;5;124;43m\"\u001B[39;49m\u001B[43m,\u001B[49m\u001B[43m \u001B[49m\u001B[38;5;28;43;01mNone\u001B[39;49;00m\u001B[43m)\u001B[49m\u001B[43m,\u001B[49m\n\u001B[1;32m   1740\u001B[0m \u001B[43m    \u001B[49m\u001B[43mmemory_map\u001B[49m\u001B[38;5;241;43m=\u001B[39;49m\u001B[38;5;28;43mself\u001B[39;49m\u001B[38;5;241;43m.\u001B[39;49m\u001B[43moptions\u001B[49m\u001B[38;5;241;43m.\u001B[39;49m\u001B[43mget\u001B[49m\u001B[43m(\u001B[49m\u001B[38;5;124;43m\"\u001B[39;49m\u001B[38;5;124;43mmemory_map\u001B[39;49m\u001B[38;5;124;43m\"\u001B[39;49m\u001B[43m,\u001B[49m\u001B[43m \u001B[49m\u001B[38;5;28;43;01mFalse\u001B[39;49;00m\u001B[43m)\u001B[49m\u001B[43m,\u001B[49m\n\u001B[1;32m   1741\u001B[0m \u001B[43m    \u001B[49m\u001B[43mis_text\u001B[49m\u001B[38;5;241;43m=\u001B[39;49m\u001B[43mis_text\u001B[49m\u001B[43m,\u001B[49m\n\u001B[1;32m   1742\u001B[0m \u001B[43m    \u001B[49m\u001B[43merrors\u001B[49m\u001B[38;5;241;43m=\u001B[39;49m\u001B[38;5;28;43mself\u001B[39;49m\u001B[38;5;241;43m.\u001B[39;49m\u001B[43moptions\u001B[49m\u001B[38;5;241;43m.\u001B[39;49m\u001B[43mget\u001B[49m\u001B[43m(\u001B[49m\u001B[38;5;124;43m\"\u001B[39;49m\u001B[38;5;124;43mencoding_errors\u001B[39;49m\u001B[38;5;124;43m\"\u001B[39;49m\u001B[43m,\u001B[49m\u001B[43m \u001B[49m\u001B[38;5;124;43m\"\u001B[39;49m\u001B[38;5;124;43mstrict\u001B[39;49m\u001B[38;5;124;43m\"\u001B[39;49m\u001B[43m)\u001B[49m\u001B[43m,\u001B[49m\n\u001B[1;32m   1743\u001B[0m \u001B[43m    \u001B[49m\u001B[43mstorage_options\u001B[49m\u001B[38;5;241;43m=\u001B[39;49m\u001B[38;5;28;43mself\u001B[39;49m\u001B[38;5;241;43m.\u001B[39;49m\u001B[43moptions\u001B[49m\u001B[38;5;241;43m.\u001B[39;49m\u001B[43mget\u001B[49m\u001B[43m(\u001B[49m\u001B[38;5;124;43m\"\u001B[39;49m\u001B[38;5;124;43mstorage_options\u001B[39;49m\u001B[38;5;124;43m\"\u001B[39;49m\u001B[43m,\u001B[49m\u001B[43m \u001B[49m\u001B[38;5;28;43;01mNone\u001B[39;49;00m\u001B[43m)\u001B[49m\u001B[43m,\u001B[49m\n\u001B[1;32m   1744\u001B[0m \u001B[43m\u001B[49m\u001B[43m)\u001B[49m\n\u001B[1;32m   1745\u001B[0m \u001B[38;5;28;01massert\u001B[39;00m \u001B[38;5;28mself\u001B[39m\u001B[38;5;241m.\u001B[39mhandles \u001B[38;5;129;01mis\u001B[39;00m \u001B[38;5;129;01mnot\u001B[39;00m \u001B[38;5;28;01mNone\u001B[39;00m\n\u001B[1;32m   1746\u001B[0m f \u001B[38;5;241m=\u001B[39m \u001B[38;5;28mself\u001B[39m\u001B[38;5;241m.\u001B[39mhandles\u001B[38;5;241m.\u001B[39mhandle\n",
      "File \u001B[0;32m~/mambaforge/envs/mlp/lib/python3.9/site-packages/pandas/io/common.py:856\u001B[0m, in \u001B[0;36mget_handle\u001B[0;34m(path_or_buf, mode, encoding, compression, memory_map, is_text, errors, storage_options)\u001B[0m\n\u001B[1;32m    851\u001B[0m \u001B[38;5;28;01melif\u001B[39;00m \u001B[38;5;28misinstance\u001B[39m(handle, \u001B[38;5;28mstr\u001B[39m):\n\u001B[1;32m    852\u001B[0m     \u001B[38;5;66;03m# Check whether the filename is to be opened in binary mode.\u001B[39;00m\n\u001B[1;32m    853\u001B[0m     \u001B[38;5;66;03m# Binary mode does not support 'encoding' and 'newline'.\u001B[39;00m\n\u001B[1;32m    854\u001B[0m     \u001B[38;5;28;01mif\u001B[39;00m ioargs\u001B[38;5;241m.\u001B[39mencoding \u001B[38;5;129;01mand\u001B[39;00m \u001B[38;5;124m\"\u001B[39m\u001B[38;5;124mb\u001B[39m\u001B[38;5;124m\"\u001B[39m \u001B[38;5;129;01mnot\u001B[39;00m \u001B[38;5;129;01min\u001B[39;00m ioargs\u001B[38;5;241m.\u001B[39mmode:\n\u001B[1;32m    855\u001B[0m         \u001B[38;5;66;03m# Encoding\u001B[39;00m\n\u001B[0;32m--> 856\u001B[0m         handle \u001B[38;5;241m=\u001B[39m \u001B[38;5;28;43mopen\u001B[39;49m\u001B[43m(\u001B[49m\n\u001B[1;32m    857\u001B[0m \u001B[43m            \u001B[49m\u001B[43mhandle\u001B[49m\u001B[43m,\u001B[49m\n\u001B[1;32m    858\u001B[0m \u001B[43m            \u001B[49m\u001B[43mioargs\u001B[49m\u001B[38;5;241;43m.\u001B[39;49m\u001B[43mmode\u001B[49m\u001B[43m,\u001B[49m\n\u001B[1;32m    859\u001B[0m \u001B[43m            \u001B[49m\u001B[43mencoding\u001B[49m\u001B[38;5;241;43m=\u001B[39;49m\u001B[43mioargs\u001B[49m\u001B[38;5;241;43m.\u001B[39;49m\u001B[43mencoding\u001B[49m\u001B[43m,\u001B[49m\n\u001B[1;32m    860\u001B[0m \u001B[43m            \u001B[49m\u001B[43merrors\u001B[49m\u001B[38;5;241;43m=\u001B[39;49m\u001B[43merrors\u001B[49m\u001B[43m,\u001B[49m\n\u001B[1;32m    861\u001B[0m \u001B[43m            \u001B[49m\u001B[43mnewline\u001B[49m\u001B[38;5;241;43m=\u001B[39;49m\u001B[38;5;124;43m\"\u001B[39;49m\u001B[38;5;124;43m\"\u001B[39;49m\u001B[43m,\u001B[49m\n\u001B[1;32m    862\u001B[0m \u001B[43m        \u001B[49m\u001B[43m)\u001B[49m\n\u001B[1;32m    863\u001B[0m     \u001B[38;5;28;01melse\u001B[39;00m:\n\u001B[1;32m    864\u001B[0m         \u001B[38;5;66;03m# Binary mode\u001B[39;00m\n\u001B[1;32m    865\u001B[0m         handle \u001B[38;5;241m=\u001B[39m \u001B[38;5;28mopen\u001B[39m(handle, ioargs\u001B[38;5;241m.\u001B[39mmode)\n",
      "\u001B[0;31mFileNotFoundError\u001B[0m: [Errno 2] No such file or directory: 'word_list.txt'"
     ]
    }
   ],
   "source": [
    "from copy import deepcopy\n",
    "import string\n",
    "\n",
    "\n",
    "def get_player_guess(word_list, knowledge):\n",
    "    available = word_list.copy()\n",
    "\n",
    "    # TODO: eliminate impossible solutions\n",
    "\n",
    "    return available, random.choice(available)\n",
    "\n",
    "\n",
    "def process_result(result, knowledge):\n",
    "    # TODO: update knowledge based on result\n",
    "    pass\n",
    "\n",
    "\n",
    "def bot_game(dataset_path):\n",
    "    word_list = load_words(dataset_path)\n",
    "    player_words = word_list.copy()\n",
    "\n",
    "    PLAYER_KNOWLEDGE = [(letter, None, -1)\n",
    "                        for letter in string.ascii_lowercase]\n",
    "    player_knowledge = deepcopy(PLAYER_KNOWLEDGE)\n",
    "\n",
    "    puzzle = get_puzzle(word_list)\n",
    "    print(puzzle)\n",
    "\n",
    "    guess = \"\"\n",
    "    while not is_game_finished(guess, puzzle):\n",
    "        player_words, guess = get_player_guess(player_words, player_knowledge)\n",
    "        print(player_words)\n",
    "        player_words.remove(guess)\n",
    "        print(guess)\n",
    "\n",
    "        result = evaluate_guess(guess, puzzle)\n",
    "        print(result)\n",
    "\n",
    "        process_result(result, player_knowledge)\n",
    "\n",
    "\n",
    "bot_game(\"word_list.txt\")"
   ]
  }
 ],
 "metadata": {
  "kernelspec": {
   "display_name": "Python 3 (ipykernel)",
   "language": "python",
   "name": "python3"
  },
  "language_info": {
   "codemirror_mode": {
    "name": "ipython",
    "version": 3
   },
   "file_extension": ".py",
   "mimetype": "text/x-python",
   "name": "python",
   "nbconvert_exporter": "python",
   "pygments_lexer": "ipython3",
   "version": "3.9.12"
  }
 },
 "nbformat": 4,
 "nbformat_minor": 4
}
