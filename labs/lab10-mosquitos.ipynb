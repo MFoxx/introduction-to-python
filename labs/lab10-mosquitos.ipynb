{
 "cells": [
  {
   "cell_type": "markdown",
   "metadata": {},
   "source": [
    "# Cvičenie 10: Simulácia letu komára\n",
    "\n",
    "Určite ste už zažili, že ste sa snažili zaspať na konci dlhého letného dňa, no tesne pred tým, že by ste sa ponorili do spánku, ste započuli [iritujúci zvuk komára](https://www.youtube.com/watch?v=t6F160gnzJ4). Zvuk je niekedy intenzívnejši, neskôr ho ledva počujete, ako komár letí v izbe na prvý pohľad úplne náhodne. V skutočnosti sa ale nejedná o náhodný let, komár naviguje pomocou čuchu a riadi sa jednoduchými pravidlami.\n",
    "\n",
    "Na dnešnom cvičení pomocou objektovo orientovaného programovania a simulácie si ukážeme, ako komár dokáže nájsť svoju korisť vďaka geniality prírody. Na konci cvičenia teda budete mať implementáciu kódu, ktorá nasimuluje let komára nasledujúcim spôsobom (modrá bodka reprezentuje človeka, červený krížik komára):\n",
    "\n",
    "![Simulácia letu komára](sources/lab10/animation.gif)"
   ]
  },
  {
   "cell_type": "markdown",
   "metadata": {},
   "source": [
    "Simulácia sa skladá z niekoľkých konceptov, a to konkrétne:\n",
    "\n",
    "* `Field` - dvojrozmerný priestor, v ktorom sa nachádzajú naši aktéri (komár a človek)\n",
    "* aktéri `Mosquito` a `Human` - reprezentujú entity, ktoré sa pohybujú v priestore; pre zjednotenie funkcionality použijeme aj nadtriedu `Actor` z minulého cvičenia\n",
    "* pre reprezentáciu pohybu použijeme pomocné triedy `Location`, ktorá reprezentuje polohu aktéra, a `Direction` pre reprezentáciu pohybu a pre výpočet aktualizovanej polohy - obe triedy boli vytvorené na minulom cvičení.\n",
    "\n",
    "[Stiahnite si kostru riešenia](sources/lab10/lab10.zip) alebo pracujte v tomto notebooku."
   ]
  },
  {
   "cell_type": "markdown",
   "metadata": {},
   "source": [
    "## Krok 1: Umiestnenie aktérov\n",
    "\n",
    "Z minulého týždňa máme už pripravené definície polohy a pohybu, avšak zatiaľ nevieme, kde sa simulácia odohráva. Práve preto do nášho modelu pridáme triedu `Field` (v súbore `field.py`), ktorá definuje spôsob narábania s našimi aktérmi. Väčšina funkcionality je už hotová, ostávajú nám iba dve metódy `get_actor_distance` a `found`. Ostatné metódy majú nasledovnú funkcionalitu:\n",
    "\n",
    "* `move_human`: posunie človeka (podľa definície pohybu v triede `Human`);\n",
    "* `move_mosquito`: posunie komára (podľa definície pohybu v triede `Mosquito`);\n",
    "* `get_human_coordinates`: vráti pozíciu človeka;\n",
    "* `get_mosquito_coordinates`: vráti pozíciu komára;\n",
    "* `get_human`: vráti objekt človeka;\n",
    "* `get_mosquito`: vráti objekt komára.\n",
    "\n",
    "**Úloha:** Chýbajúca metóda `get_actor_distance` má vrátiť vzdialenosť medzi človekom a komárom (použije sa pri definícii pohybu komára) a metóda `found` vráti `boolean` vyjadrujúci, či komár našiel človeka alebo nie. Nájdenie koristi definujeme ako moment, keď vzdialenosť medzi človekom a komárom je menšia ako 2. Pri implementácii nezabudnite použiť už implementované metódy, ak tie sú vhodné pre našu funkcionalitu."
   ]
  },
  {
   "cell_type": "code",
   "execution_count": null,
   "metadata": {},
   "outputs": [],
   "source": [
    "class Field:\n",
    "    def __init__(self, human, mosquito):\n",
    "        self.human = human\n",
    "        self.mosquito = mosquito\n",
    "\n",
    "        self.human.set_field(self)\n",
    "        self.mosquito.set_field(self)\n",
    "\n",
    "    def move_human(self):\n",
    "        self.human.move()\n",
    "\n",
    "    def move_mosquito(self):\n",
    "        self.mosquito.move()\n",
    "\n",
    "    def get_human_coordinates(self):\n",
    "        return self.human.get_coords()\n",
    "\n",
    "    def get_mosquito_coordinates(self):\n",
    "        return self.mosquito.get_coords()\n",
    "\n",
    "    def get_human(self):\n",
    "        return self.human\n",
    "\n",
    "    def get_mosquito(self):\n",
    "        return self.mosquito\n",
    "\n",
    "    def get_actor_distance(self):\n",
    "        # TODO: return distance between human and mosquito\n",
    "        return 0\n",
    "\n",
    "    def found(self):\n",
    "        # TODO: return if mosquito has found human (distance between them < 2)\n",
    "        return False\n"
   ]
  },
  {
   "cell_type": "markdown",
   "metadata": {},
   "source": [
    "## Krok 2: Postavy v priestore\n",
    "\n",
    "V priestore simulácie sa nachádzaju dva typy aktérov: komár a človek. Z minulého cvičenia máme už vytvorenú nadtriedu `Actor`, ktorá deklaruje funkcionalitu aktérov, a to nasledovne:\n",
    "\n",
    "* `set_field`: pridávanie aktéra do priestoru;\n",
    "* `move`: (náhodný) pohyb aktéra, jednotlivé podtriedy ju bližšie špecifikujú;\n",
    "* `get_coords`: vráti x-ovú a y-ovú súradnicu aktéra;\n",
    "* `get_location`: vráti pozíciu aktéra ako objekt typu `Location`."
   ]
  },
  {
   "cell_type": "code",
   "execution_count": null,
   "metadata": {},
   "outputs": [],
   "source": [
    "class Actor:\n",
    "    def __init__(self, name, speed, x, y):\n",
    "        self.name = name\n",
    "        self.speed = speed\n",
    "        self.loc = Location(x, y)\n",
    "\n",
    "        self.field = None\n",
    "\n",
    "    def set_field(self, field):\n",
    "        self.field = field\n",
    "\n",
    "    def move(self):\n",
    "        angle = random.uniform(0, math.tau)\n",
    "        direction = Direction(angle)\n",
    "        dx, dy = direction.move(self.speed)\n",
    "        self.loc = self.loc.move(dx, dy)\n",
    "\n",
    "    def get_coords(self):\n",
    "        return self.loc.get_coords()\n",
    "\n",
    "    def get_location(self):\n",
    "        return self.loc"
   ]
  },
  {
   "cell_type": "markdown",
   "metadata": {},
   "source": [
    "### Krok 2.1: Človek\n",
    "\n",
    "Najprv implementujeme triedu `Human`, keďže to bude jednoduchá záležitosť. V konštruktore voláme konštruktor nadtriedy s cieľom nastaviť všetky členské premenné tak, aby podporovali prácu s objektom.\n",
    "\n",
    "Ostáva nám metóda `move`, v ktorej chceme implementovať náhodný pohyb človeka. Podľa príkladu konštruktora použite implementované riešenie z triedy `Actor`, prípadne upravte implementáciu ak to bude potrebné."
   ]
  },
  {
   "cell_type": "code",
   "execution_count": null,
   "metadata": {},
   "outputs": [],
   "source": [
    "class Human(Actor):\n",
    "    def __init__(self, name, speed, x, y):\n",
    "        super().__init__(name, speed, x, y)\n",
    "\n",
    "    def move(self):\n",
    "        # TODO: take a step in a random direction\n",
    "        pass"
   ]
  },
  {
   "cell_type": "markdown",
   "metadata": {},
   "source": [
    "### Krok 2.2: Komár\n",
    "\n",
    "Let komára sa riadi niekoľkými jednoduchými pravidlami, ktoré vyžadujú ukladávanie pomocných hodnôt, pre ktoré vytvoríme pomocné členské premenné v konštruktore:\n",
    "\n",
    "* `found_prey` - reprezentuje, či komár našiel korisť;\n",
    "* `last_distance` - vzdialenosť od koristi v predošlom kroku;\n",
    "* `last_direction` - smer posledného kroku, ktorý komár urobil;\n",
    "* `changes` - zoznam otočení za posledné kroky - budeme ho potrebovať aby sme predišli zacykleniu.\n",
    "\n",
    "Následne vieme implementovať funkcionalitu metódy `move` na základe nasledovných pravidiel:\n",
    "\n",
    "* Kým komár je vo väčšej vzdialenosti od človeka ako 90, pohybuje sa náhodne.\n",
    "* Ak vzdialenosť je menšia, ako 90, komár zachytil vôňu krvi človeka. Od tohto momentu bude jeho pohyb riadený:\n",
    "  * Najprv začne letieť v náhodnom smere. Ak vôňa je silnejšia (vzdialenosť je menšia), tak pokračuje v tomto smere. V opačnom prípade sa otočí o 180 stupňov.\n",
    "  * Ak vzdialenosť bude väčšia ako 90, komár stratil vôňu a znova letí náhodným spôsobom.\n",
    "\n",
    "**Poznámka:** Vzhľadom na to, že v našom riešení komára otočíme vždy o 180 stupňov (čo v skutočnosti nie úplne platí), môže sa stať, že komár bude oscilovať medzi dvomi polohami. Ošetrite túto možnosť a predídte zacykleniu pomocou zoznamu `changes`: ak konár pokračuje v rovnakom smere, pridajte na koniec zoznamu `1`, ak ste komára otočili, tak pridajte `-1`."
   ]
  },
  {
   "cell_type": "code",
   "execution_count": null,
   "metadata": {},
   "outputs": [],
   "source": [
    "class Mosquito(Actor):\n",
    "    def __init__(self, name, speed, x, y):\n",
    "        super().__init__(name, speed, x, y)\n",
    "        self.found_prey = False\n",
    "        self.last_distance = 0\n",
    "        self.last_direction = None\n",
    "        self.changes = list()\n",
    "\n",
    "    def move(self):\n",
    "        # TODO: implement mosquito's movement:\n",
    "        # while distance > 90 - move in a random direction\n",
    "        # if distance < 90, the mosquito has found the human scent trace\n",
    "        # fly in random direction, if scent gets stronger, continue\n",
    "        # if scent gets weaker, turn around\n",
    "        # if scent is lost, fly in a random direction\n",
    "        pass\n"
   ]
  },
  {
   "cell_type": "markdown",
   "metadata": {},
   "source": [
    "## Krok 3: Simulácia\n",
    "\n",
    "Ak ste sa dostali do tohto bodu, už máte všetko pripravené k simulácii. Kód simulácie nájdete v súbore `main.py`, a využíva knižnicu `matplotlib` pre vizualizáciu.\n",
    "\n",
    "Na začiatku simulácie náhodne vygenerujeme pozíciu človeka, komár začne na pozícii `[10, 10]`. Simulácia trvá až dovtedy, kým komár nenájde človeka, pričom aktualizuje sa iba vykreslený graf, teda pozícia bodov reprezentujúcich človeka (modrý kruh) a komára (červený krížik)."
   ]
  },
  {
   "cell_type": "code",
   "execution_count": null,
   "metadata": {},
   "outputs": [],
   "source": [
    "import random\n",
    "from time import sleep\n",
    "\n",
    "import matplotlib.pyplot as plt\n",
    "\n",
    "\n",
    "human_x = random.randint(-50, 50)\n",
    "human_y = random.randint(-50, 50)\n",
    "human = Human(\"Janko Hrasko\", 1, human_x, human_y)\n",
    "mosquito = Mosquito(\"Mosquito\", 1, 10, 10)\n",
    "\n",
    "field = Field(human, mosquito)\n",
    "\n",
    "plt.ion()\n",
    "fig = plt.figure()\n",
    "ax = fig.add_subplot(111)\n",
    "ax.set_xlim([-100, 100])\n",
    "ax.set_ylim([-100, 100])\n",
    "\n",
    "human_pos = field.get_human_coordinates()\n",
    "mosquito_pos = field.get_mosquito_coordinates()\n",
    "\n",
    "human_plot_point, = ax.plot(human_pos, 'bo')\n",
    "mosquito_plot_point, = ax.plot(mosquito_pos, 'rx')\n",
    "fig.canvas.draw()\n",
    "fig.canvas.flush_events()\n",
    "\n",
    "while not field.found():\n",
    "    human_pos = field.get_human_coordinates()\n",
    "    mosquito_pos = field.get_mosquito_coordinates()\n",
    "\n",
    "    human_plot_point.set_xdata(human_pos[0])\n",
    "    human_plot_point.set_ydata(human_pos[1])\n",
    "    mosquito_plot_point.set_xdata(mosquito_pos[0])\n",
    "    mosquito_plot_point.set_ydata(mosquito_pos[1])\n",
    "\n",
    "    fig.canvas.draw()\n",
    "    fig.canvas.flush_events()\n",
    "\n",
    "    field.move_mosquito()\n",
    "    sleep(0.1)"
   ]
  },
  {
   "cell_type": "markdown",
   "metadata": {},
   "source": [
    "Ako môžete vidieť, v simulácii sa zatiaľ pohybuje iba komár, pridajte teda pohyb človeka, náhodne vygenerujte aj začiatočnú pozíciu komára, a všeobecne vyskúšajte rôzne nastavenia."
   ]
  },
  {
   "cell_type": "markdown",
   "metadata": {},
   "source": [
    "Následne pomocou simulácií odpovedzte na otázku, koľko krokov potrebuje komár na nájdenie koristi v priemere, ak začne v istej vzdialenosti od človeka. Simuláciu implementujte vo funkcii `get_flight_length`, ktorá dostane ako parameter `init_dist` počiatočnú vzdialenosť medzi dvomi aktérmi. V simulácii nepotrebujete vizualizáciu pohybu, nájdenie koristi simulujte iba pomocou výpočtového modelu."
   ]
  },
  {
   "cell_type": "code",
   "execution_count": null,
   "metadata": {},
   "outputs": [],
   "source": [
    "def get_flight_length(init_dist):\n",
    "    # TODO: implement simulation and answer the question\n",
    "    # how many steps it takes for the mosquito to reach its prey\n",
    "    # on average given an initial distance init_dist\n",
    "    pass\n",
    "\n",
    "get_flight_length(100)"
   ]
  },
  {
   "cell_type": "markdown",
   "metadata": {},
   "source": [
    "## Doplnkové úlohy\n",
    "\n",
    "1. Cieľom simulácií je nielen namodelovať a nasimulovať jav, ale aj získať užitočné znalosti o skúmanom jave pomocou nich. Navrhnite a následne implementujte simuláciu, ktorá zistí, ako ovplyvňuje počiatočná vzdialenosť komára od koristi počet krokov, ktorý potrebuje na nájdenie koristi.\n",
    "2. Pridajte do simulácie niekoľko ľudí, pričom pri lete komára berte do úvahy vzdialenosť od najbližšej osoby.\n",
    "3. Pridajte do sveta prekážky, ktorými komár nedokáže prejsť."
   ]
  }
 ],
 "metadata": {
  "kernelspec": {
   "display_name": "Python 3",
   "language": "python",
   "name": "python3"
  },
  "language_info": {
   "codemirror_mode": {
    "name": "ipython",
    "version": 3
   },
   "file_extension": ".py",
   "mimetype": "text/x-python",
   "name": "python",
   "nbconvert_exporter": "python",
   "pygments_lexer": "ipython3",
   "version": "3.7.3"
  }
 },
 "nbformat": 4,
 "nbformat_minor": 2
}
