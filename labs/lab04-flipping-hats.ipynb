{
 "cells": [
  {
   "cell_type": "markdown",
   "metadata": {},
   "source": [
    "# Cvičenie 4: Poriadok musí byť\n",
    "\n",
    "Všetci vieme, že nič nie je horšie ako neporiadok v nejakom systéme. Možno rok 2020 bol horší, ale asi sa zhodneme že niekedy môže byť frustrujúce vidieť, ako niektorý člen nedodrží celkový poriadok celého systému.\n",
    "\n",
    "<img src=\"sources/lab04/pills.jpg\" width=\"400\">\n",
    "\n",
    "Na dnešnom cvičení napíšete program, ktorý dokáže zaviesť aspoň malý poriadok do nášho chaotického sveta."
   ]
  },
  {
   "cell_type": "markdown",
   "metadata": {},
   "source": [
    "Tento konceptuálny problém sa nazýva \"Flip hats\" problém a môže byť popísaný nasledovne:\n",
    "\n",
    "Stojíte pri vstupe na baseballový zápas a všetci fanúšikovia majú na sebe šiltovky domáceho tímu. Niektorí ľudia majú čiapku otočenú dopredu, iní ju majú otočenú dozadu. Vy máte radi poriadok a týchto fanúšikov spustíte do štadióna iba v prípade, že všetci budú mať šiltovky otočené rovnako - nezáleží vám na tom, či to bude dopredu alebo dozadu. Bohužiaľ je známe, že Američania nie sú najchytrejší pri riešení logických problémov, a práve preto nemôžete dať jednoduchý pokyn, aby všetci pootočili šiltovky normálne, pretože všetci majú inú definíciu normálu.\n",
    "\n",
    "Čo ale môžete urobiť je vydať pokyny typu \"Ľudia na pozíciach 5 až 10, otočte si šiltovky!\" Interval je uzavretý, to znamená, že spolu 6 ľudí upraví šiltovku. Samozrejme ako dobrí programátori, číslovať začnete od 0.\n",
    "\n",
    "Napríklad, pre rad:\n",
    "\n",
    "```\n",
    "F, F, B, B, B, F, B, B, B, F,  F,  B,  F\n",
    "0, 1, 2, 3, 4, 5, 6, 7, 8, 9, 10, 11, 12\n",
    "```\n",
    "\n",
    "môžeme zakričať pokyny:\n",
    "\n",
    "*Ľudia na pozíciach 0 až 1, otočte si šiltovky!*\n",
    "\n",
    "*Osoba na pozícii 5, otoč si šiltovku!*\n",
    "\n",
    "*Ľudia na pozíciach 9 až 10, otočte si šiltovky!*\n",
    "\n",
    "*Osoba na pozícii 12, otoč si šiltovku!*\n",
    "\n",
    "Takto všetci budú mať šiltovky otočené dozadu. Alternatívne, môžete dať pokyny:\n",
    "\n",
    "*Ľudia na pozíciach 2 až 4, otočte si šiltovky!*\n",
    "\n",
    "*Ľudia na pozíciach 6 až 8, otočte si šiltovky!*\n",
    "\n",
    "*Osoba na pozícii 11, otoč si šiltovku!*\n",
    "\n",
    "Takto všetci budú mať šiltovky vpred, a zároveň ste dali o jeden pokyn menej. Našim cieľom na dnešnom cvičení je vytvoriť program, ktorý nájde najmenší počet pokynov potrebných na zabezpečenie rovnakej orientácie všetkých šiltoviek."
   ]
  },
  {
   "cell_type": "markdown",
   "metadata": {},
   "source": [
    "## 1. Generovanie pokynov\n",
    "\n",
    "V prvom kroku napíšeme hocijaký funkčný kód, ktorý spĺňa naše požiadavky, funkciu neskôr upravíme. Po debate sa dohodnite na možnom riešení a implementujte ho v [kostre riešenia](sources/lab04/lab04.py), alebo v tomto notebooku. Na začiatku máte niekoľko príkladov radu ľudí:"
   ]
  },
  {
   "cell_type": "code",
   "execution_count": null,
   "metadata": {},
   "outputs": [],
   "source": [
    "test = ['F', 'F', 'B', 'B', 'F', 'B', 'B', 'F', 'F', 'B']\n",
    "test2 = ['F', 'F', 'B', 'B', 'B', 'F', 'B', 'B', 'B', 'F', 'F', 'B', 'F']\n",
    "test3 = ['F', 'F', 'B', 'B', 'B', 'F', 'B', 'B', 'B', 'F', 'F', 'F', 'F']"
   ]
  },
  {
   "cell_type": "markdown",
   "metadata": {},
   "source": [
    "**Úloha:** Implementujte funkciu `switch_to_one`, ktorá vygeneruje a vypíše pokyny vo forme uvedenej vyššie na základe zoznamu reťazcov, ktoré reprezentujú orientáciu šiltoviek jednotlivých návštevníkov. Vo funkcii nezabudnite skontrolovať, či vstupný zoznam spĺňa očakávané vlastnosti vstupu."
   ]
  },
  {
   "cell_type": "code",
   "execution_count": null,
   "metadata": {},
   "outputs": [],
   "source": [
    "def switch_to_one(cap_list):\n",
    "    # given a list of characters that can take two values - T and B - flip\n",
    "    # them so all elements are the same in the list\n",
    "    # the goal is to find the smallest number of instructions\n",
    "    pass\n",
    "\n",
    "switch_to_one(test)\n",
    "switch_to_one(test2)\n",
    "switch_to_one(test3)"
   ]
  },
  {
   "cell_type": "markdown",
   "metadata": {},
   "source": [
    "## 2. Optimálne riešenie\n",
    "\n",
    "Ak všetko prebehlo úspešne, vaše riešenie nájde minimálny počet pokynov pre dosiahnutie cieľa, ale pravdepodobne potrebujete na to dva prechody zoznamom. Pri krátkych zoznamoch to problém nie je, ale čím máte dlhší zoznam, tým bude program pomalší a pomalší.\n",
    "\n",
    "**Úloha:** Pouvažujte nad tým, ako by sa problém dal vyriešiť jedným prechodom zoznamom a následne implementujte `switch_to_one_opt` s rovnakou funkcionalitou ako `switch_to_one`, avšak použite pri tom iba jeden prechod zoznamom."
   ]
  },
  {
   "cell_type": "code",
   "execution_count": null,
   "metadata": {},
   "outputs": [],
   "source": [
    "def switch_to_one_opt(cap_list):\n",
    "    # given a list of characters that can take two values - T and B - flip\n",
    "    # them so all elements are the same in the list\n",
    "    # the goal is to find the smallest number of instructions\n",
    "    # use only one pass through the list\n",
    "    pass\n",
    "\n",
    "switch_to_one_opt(test)\n",
    "switch_to_one_opt(test2)\n",
    "switch_to_one_opt(test3)"
   ]
  },
  {
   "cell_type": "markdown",
   "metadata": {},
   "source": [
    "## 3. Komplikácie\n",
    "\n",
    "Samozrejme nie všetci nosia radi šiltovky, a práve preto vo vašom rade sa pravdepodobne objavia ľudia, ktorí šiltovky nemajú, označme ich písmenom `H`:"
   ]
  },
  {
   "cell_type": "code",
   "execution_count": null,
   "metadata": {},
   "outputs": [],
   "source": [
    "test4 = ['F', 'F', 'B', 'H', 'B', 'F', 'B', 'B', 'B', 'F', 'H', 'F', 'F']"
   ]
  },
  {
   "cell_type": "markdown",
   "metadata": {},
   "source": [
    "Keďže sú to Američania, ak ľudom bez šiltoviek poviete, že si majú upraviť šiltovky, budú takí zmätení, že vám všetko pokazia. Práve preto upravte vaše riešenie tak, aby títo ľudia nikdy neboli zahrnutí vo vašich pokynoch.\n",
    "\n",
    "**Úloha:** Implementujte funkciu `switch_to_one_hatless`, ktorá podporuje tretí možný stav orientácie šiltoviek - `H` - pre ľudí, ktorí šiltovku vôbec nemajú. Pri riešení vychádzajte zo `switch_to_one`."
   ]
  },
  {
   "cell_type": "code",
   "execution_count": null,
   "metadata": {},
   "outputs": [],
   "source": [
    "def switch_to_one_hatless(cap_list):\n",
    "    # given a list of characters that can take three values - T, B and H - flip\n",
    "    # them so all elements are the same in the list or H\n",
    "    # the goal is to find the smallest number of instructions\n",
    "    pass\n",
    "\n",
    "switch_to_one_hatless(test4)"
   ]
  }
 ],
 "metadata": {
  "kernelspec": {
   "display_name": "Python 3",
   "language": "python",
   "name": "python3"
  },
  "language_info": {
   "codemirror_mode": {
    "name": "ipython",
    "version": 3
   },
   "file_extension": ".py",
   "mimetype": "text/x-python",
   "name": "python",
   "nbconvert_exporter": "python",
   "pygments_lexer": "ipython3",
   "version": "3.7.3"
  }
 },
 "nbformat": 4,
 "nbformat_minor": 4
}
