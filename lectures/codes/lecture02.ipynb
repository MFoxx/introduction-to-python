{
 "cells": [
  {
   "cell_type": "code",
   "execution_count": 33,
   "id": "9340cc0f",
   "metadata": {},
   "outputs": [],
   "source": [
    "def square(number, print_result=False):\n",
    "    \"\"\"\n",
    "    Returns the square of a number.\n",
    "    \n",
    "    Parameters:\n",
    "    number - an integer or float\n",
    "    \n",
    "    Returns:\n",
    "    an integer or float representing the square\n",
    "    \"\"\"\n",
    "    result = number ** 2\n",
    "    if print_result:\n",
    "        print(\"The result is:\", result)\n",
    "    return result"
   ]
  },
  {
   "cell_type": "code",
   "execution_count": 7,
   "id": "3aab4341",
   "metadata": {},
   "outputs": [
    {
     "name": "stdout",
     "output_type": "stream",
     "text": [
      "The result is: 9\n"
     ]
    },
    {
     "data": {
      "text/plain": [
       "9"
      ]
     },
     "execution_count": 7,
     "metadata": {},
     "output_type": "execute_result"
    }
   ],
   "source": [
    "square(3, True)"
   ]
  },
  {
   "cell_type": "code",
   "execution_count": 4,
   "id": "549a7a23",
   "metadata": {},
   "outputs": [],
   "source": [
    "# square(\"abc\")"
   ]
  },
  {
   "cell_type": "code",
   "execution_count": null,
   "id": "547880e0",
   "metadata": {},
   "outputs": [],
   "source": [
    "square(True, 3)"
   ]
  },
  {
   "cell_type": "code",
   "execution_count": 12,
   "id": "9a670d22",
   "metadata": {},
   "outputs": [
    {
     "name": "stdout",
     "output_type": "stream",
     "text": [
      "The result is: 9\n"
     ]
    },
    {
     "data": {
      "text/plain": [
       "9"
      ]
     },
     "execution_count": 12,
     "metadata": {},
     "output_type": "execute_result"
    }
   ],
   "source": [
    "square(print_result=True, number=3)"
   ]
  },
  {
   "cell_type": "code",
   "execution_count": 15,
   "id": "08fd650a",
   "metadata": {},
   "outputs": [
    {
     "ename": "TypeError",
     "evalue": "square() missing 1 required positional argument: 'number'",
     "output_type": "error",
     "traceback": [
      "\u001b[1;31m---------------------------------------------------------------------------\u001b[0m",
      "\u001b[1;31mTypeError\u001b[0m                                 Traceback (most recent call last)",
      "Input \u001b[1;32mIn [15]\u001b[0m, in \u001b[0;36m<cell line: 1>\u001b[1;34m()\u001b[0m\n\u001b[1;32m----> 1\u001b[0m \u001b[43msquare\u001b[49m\u001b[43m(\u001b[49m\u001b[43m)\u001b[49m\n",
      "\u001b[1;31mTypeError\u001b[0m: square() missing 1 required positional argument: 'number'"
     ]
    }
   ],
   "source": [
    "square()"
   ]
  },
  {
   "cell_type": "code",
   "execution_count": 19,
   "id": "bfe481d5",
   "metadata": {},
   "outputs": [],
   "source": [
    "def cube(number:int) -> int:\n",
    "    if not isinstance(number, int):\n",
    "        return -1\n",
    "    result = number ** 3\n",
    "    return result"
   ]
  },
  {
   "cell_type": "code",
   "execution_count": 21,
   "id": "9f74b15e",
   "metadata": {},
   "outputs": [
    {
     "data": {
      "text/plain": [
       "-1"
      ]
     },
     "execution_count": 21,
     "metadata": {},
     "output_type": "execute_result"
    }
   ],
   "source": [
    "cube(-1)"
   ]
  },
  {
   "cell_type": "code",
   "execution_count": 22,
   "id": "d68f2b56",
   "metadata": {},
   "outputs": [
    {
     "data": {
      "text/plain": [
       "-1"
      ]
     },
     "execution_count": 22,
     "metadata": {},
     "output_type": "execute_result"
    }
   ],
   "source": [
    "cube(3.4)"
   ]
  },
  {
   "cell_type": "code",
   "execution_count": 37,
   "id": "d0b97817",
   "metadata": {},
   "outputs": [],
   "source": [
    "def square(number, print_result=False):\n",
    "    global a  # global variable - do not use\n",
    "    a += 1\n",
    "    result = number ** 2\n",
    "    if print_result:\n",
    "        print(\"The result is:\", result)\n",
    "    return result"
   ]
  },
  {
   "cell_type": "code",
   "execution_count": 38,
   "id": "7f7d4fdd",
   "metadata": {},
   "outputs": [
    {
     "name": "stdout",
     "output_type": "stream",
     "text": [
      "25\n",
      "6\n"
     ]
    }
   ],
   "source": [
    "a = 5\n",
    "print(square(a))\n",
    "# print(result)\n",
    "print(a)"
   ]
  },
  {
   "cell_type": "code",
   "execution_count": 39,
   "id": "cbe5d192",
   "metadata": {},
   "outputs": [],
   "source": [
    "def no_return_value():\n",
    "    pass"
   ]
  },
  {
   "cell_type": "code",
   "execution_count": 40,
   "id": "14b5ee0f",
   "metadata": {},
   "outputs": [
    {
     "name": "stdout",
     "output_type": "stream",
     "text": [
      "None\n"
     ]
    }
   ],
   "source": [
    "print(no_return_value())"
   ]
  },
  {
   "cell_type": "code",
   "execution_count": 41,
   "id": "0821e237",
   "metadata": {},
   "outputs": [],
   "source": [
    "def multiple_return_values():\n",
    "    return 1, 2, 3"
   ]
  },
  {
   "cell_type": "code",
   "execution_count": 42,
   "id": "1923c3b8",
   "metadata": {},
   "outputs": [
    {
     "name": "stdout",
     "output_type": "stream",
     "text": [
      "(1, 2, 3)\n"
     ]
    }
   ],
   "source": [
    "print(multiple_return_values())"
   ]
  },
  {
   "cell_type": "code",
   "execution_count": 43,
   "id": "5709cc4d",
   "metadata": {},
   "outputs": [],
   "source": [
    "a, b, c = multiple_return_values()"
   ]
  },
  {
   "cell_type": "code",
   "execution_count": 44,
   "id": "5fe9d0fd",
   "metadata": {},
   "outputs": [
    {
     "name": "stdout",
     "output_type": "stream",
     "text": [
      "1\n",
      "2\n",
      "3\n"
     ]
    }
   ],
   "source": [
    "print(a)\n",
    "print(b)\n",
    "print(c)"
   ]
  },
  {
   "cell_type": "code",
   "execution_count": 45,
   "id": "33c9324a",
   "metadata": {},
   "outputs": [
    {
     "name": "stdout",
     "output_type": "stream",
     "text": [
      "(1, 2, 3)\n"
     ]
    }
   ],
   "source": [
    "ret_value = multiple_return_values()\n",
    "print(ret_value)"
   ]
  },
  {
   "cell_type": "code",
   "execution_count": 46,
   "id": "cd60173d",
   "metadata": {},
   "outputs": [
    {
     "name": "stdout",
     "output_type": "stream",
     "text": [
      "1\n"
     ]
    }
   ],
   "source": [
    "print(ret_value[0])"
   ]
  },
  {
   "cell_type": "code",
   "execution_count": 47,
   "id": "e8bf968c",
   "metadata": {},
   "outputs": [
    {
     "name": "stdout",
     "output_type": "stream",
     "text": [
      "3\n"
     ]
    }
   ],
   "source": [
    "a, b, _ = multiple_return_values()  # if you don't want to use the last value\n",
    "print(_)"
   ]
  },
  {
   "cell_type": "code",
   "execution_count": 48,
   "id": "05b7bf11",
   "metadata": {},
   "outputs": [
    {
     "data": {
      "text/plain": [
       "25"
      ]
     },
     "execution_count": 48,
     "metadata": {},
     "output_type": "execute_result"
    }
   ],
   "source": [
    "x = 5\n",
    "eval(\"x * x\")"
   ]
  },
  {
   "cell_type": "code",
   "execution_count": 49,
   "id": "59308aa7",
   "metadata": {},
   "outputs": [
    {
     "name": "stdout",
     "output_type": "stream",
     "text": [
      "Please enter an integer: 5\n",
      "Please enter an expression using number: number + number * number\n",
      "30\n"
     ]
    }
   ],
   "source": [
    "number = int(input(\"Please enter an integer: \"))\n",
    "expr = input(\"Please enter an expression using number: \")\n",
    "print(eval(expr))"
   ]
  },
  {
   "cell_type": "code",
   "execution_count": 57,
   "id": "edd69c18",
   "metadata": {},
   "outputs": [
    {
     "name": "stdout",
     "output_type": "stream",
     "text": [
      "Enter a function (square/cube): cube\n",
      "1\n",
      "8\n",
      "27\n",
      "64\n",
      "125\n",
      "216\n",
      "343\n",
      "512\n",
      "729\n",
      "1000\n"
     ]
    }
   ],
   "source": [
    "def square(number: int) -> int:\n",
    "    \"\"\"\n",
    "    Takes an integer as argument and returns its square.\n",
    "    \"\"\"\n",
    "    return number ** 2\n",
    "\n",
    "\n",
    "def cube(number: int) -> int:\n",
    "    return number ** 3\n",
    "\n",
    "\n",
    "func = input(\"Enter a function (square/cube): \")\n",
    "\n",
    "for number in range(1, 11):\n",
    "    print(eval(func)(number))"
   ]
  },
  {
   "cell_type": "code",
   "execution_count": 58,
   "id": "1cae419d",
   "metadata": {},
   "outputs": [],
   "source": [
    "myfile = open(\"test.txt\", \"w\")"
   ]
  },
  {
   "cell_type": "code",
   "execution_count": 59,
   "id": "01b697bd",
   "metadata": {},
   "outputs": [
    {
     "data": {
      "text/plain": [
       "10"
      ]
     },
     "execution_count": 59,
     "metadata": {},
     "output_type": "execute_result"
    }
   ],
   "source": [
    "myfile.write(\"blablabla\\n\")"
   ]
  },
  {
   "cell_type": "code",
   "execution_count": 60,
   "id": "e2a4038e",
   "metadata": {},
   "outputs": [],
   "source": [
    "myfile.flush()"
   ]
  },
  {
   "cell_type": "code",
   "execution_count": 61,
   "id": "5fd9e4b5",
   "metadata": {},
   "outputs": [],
   "source": [
    "myfile.write(\"druhy riadok\\n\")\n",
    "myfile.close()"
   ]
  },
  {
   "cell_type": "code",
   "execution_count": 62,
   "id": "604092bf",
   "metadata": {},
   "outputs": [
    {
     "name": "stdout",
     "output_type": "stream",
     "text": [
      "['blablabla\\n', 'druhy riadok\\n']\n"
     ]
    }
   ],
   "source": [
    "readfile = open(\"test.txt\", \"r\")\n",
    "print(readfile.readlines())"
   ]
  },
  {
   "cell_type": "code",
   "execution_count": 63,
   "id": "6bc0abe2",
   "metadata": {},
   "outputs": [],
   "source": [
    "readfile.close()"
   ]
  },
  {
   "cell_type": "code",
   "execution_count": 64,
   "id": "e12effa3",
   "metadata": {},
   "outputs": [],
   "source": [
    "def is_palindrome(sequence):\n",
    "    if len(sequence) == 0:\n",
    "        return True\n",
    "    if len(sequence) == 1:\n",
    "        return True\n",
    "    return sequence[0] == sequence[-1] and is_palindrome(sequence[1:-1])"
   ]
  },
  {
   "cell_type": "code",
   "execution_count": 65,
   "id": "e3224174",
   "metadata": {},
   "outputs": [
    {
     "name": "stdout",
     "output_type": "stream",
     "text": [
      "True\n",
      "False\n",
      "True\n",
      "False\n"
     ]
    }
   ],
   "source": [
    "print(is_palindrome(\"1001001\"))\n",
    "print(is_palindrome(\"123456\"))\n",
    "print(is_palindrome(\"123321\"))\n",
    "print(is_palindrome(\"1234221\"))"
   ]
  },
  {
   "cell_type": "code",
   "execution_count": 66,
   "id": "2f443405",
   "metadata": {},
   "outputs": [],
   "source": [
    "def fibonacci(n):\n",
    "    if n == 1:\n",
    "        return 0\n",
    "    if n == 2:\n",
    "        return 1\n",
    "    return fibonacci(n - 2) + fibonacci(n - 1)"
   ]
  },
  {
   "cell_type": "code",
   "execution_count": 67,
   "id": "00bb3960",
   "metadata": {},
   "outputs": [
    {
     "name": "stdout",
     "output_type": "stream",
     "text": [
      "0\n",
      "1\n",
      "1\n",
      "8\n"
     ]
    }
   ],
   "source": [
    "print(fibonacci(1))\n",
    "print(fibonacci(2))\n",
    "print(fibonacci(3))\n",
    "print(fibonacci(7))"
   ]
  },
  {
   "cell_type": "code",
   "execution_count": 68,
   "id": "4d8ac605",
   "metadata": {},
   "outputs": [
    {
     "name": "stdout",
     "output_type": "stream",
     "text": [
      "4181\n"
     ]
    }
   ],
   "source": [
    "print(fibonacci(20))"
   ]
  },
  {
   "cell_type": "code",
   "execution_count": 69,
   "id": "a64b8a14",
   "metadata": {},
   "outputs": [
    {
     "name": "stdout",
     "output_type": "stream",
     "text": [
      "46368\n"
     ]
    }
   ],
   "source": [
    "print(fibonacci(25))"
   ]
  },
  {
   "cell_type": "code",
   "execution_count": 70,
   "id": "b8bc0015",
   "metadata": {},
   "outputs": [
    {
     "ename": "KeyboardInterrupt",
     "evalue": "",
     "output_type": "error",
     "traceback": [
      "\u001b[1;31m---------------------------------------------------------------------------\u001b[0m",
      "\u001b[1;31mKeyboardInterrupt\u001b[0m                         Traceback (most recent call last)",
      "Input \u001b[1;32mIn [70]\u001b[0m, in \u001b[0;36m<cell line: 1>\u001b[1;34m()\u001b[0m\n\u001b[1;32m----> 1\u001b[0m \u001b[38;5;28mprint\u001b[39m(\u001b[43mfibonacci\u001b[49m\u001b[43m(\u001b[49m\u001b[38;5;241;43m50\u001b[39;49m\u001b[43m)\u001b[49m)\n",
      "Input \u001b[1;32mIn [66]\u001b[0m, in \u001b[0;36mfibonacci\u001b[1;34m(n)\u001b[0m\n\u001b[0;32m      4\u001b[0m \u001b[38;5;28;01mif\u001b[39;00m n \u001b[38;5;241m==\u001b[39m \u001b[38;5;241m2\u001b[39m:\n\u001b[0;32m      5\u001b[0m     \u001b[38;5;28;01mreturn\u001b[39;00m \u001b[38;5;241m1\u001b[39m\n\u001b[1;32m----> 6\u001b[0m \u001b[38;5;28;01mreturn\u001b[39;00m \u001b[43mfibonacci\u001b[49m\u001b[43m(\u001b[49m\u001b[43mn\u001b[49m\u001b[43m \u001b[49m\u001b[38;5;241;43m-\u001b[39;49m\u001b[43m \u001b[49m\u001b[38;5;241;43m2\u001b[39;49m\u001b[43m)\u001b[49m \u001b[38;5;241m+\u001b[39m fibonacci(n \u001b[38;5;241m-\u001b[39m \u001b[38;5;241m1\u001b[39m)\n",
      "Input \u001b[1;32mIn [66]\u001b[0m, in \u001b[0;36mfibonacci\u001b[1;34m(n)\u001b[0m\n\u001b[0;32m      4\u001b[0m \u001b[38;5;28;01mif\u001b[39;00m n \u001b[38;5;241m==\u001b[39m \u001b[38;5;241m2\u001b[39m:\n\u001b[0;32m      5\u001b[0m     \u001b[38;5;28;01mreturn\u001b[39;00m \u001b[38;5;241m1\u001b[39m\n\u001b[1;32m----> 6\u001b[0m \u001b[38;5;28;01mreturn\u001b[39;00m \u001b[43mfibonacci\u001b[49m\u001b[43m(\u001b[49m\u001b[43mn\u001b[49m\u001b[43m \u001b[49m\u001b[38;5;241;43m-\u001b[39;49m\u001b[43m \u001b[49m\u001b[38;5;241;43m2\u001b[39;49m\u001b[43m)\u001b[49m \u001b[38;5;241m+\u001b[39m fibonacci(n \u001b[38;5;241m-\u001b[39m \u001b[38;5;241m1\u001b[39m)\n",
      "    \u001b[1;31m[... skipping similar frames: fibonacci at line 6 (32 times)]\u001b[0m\n",
      "Input \u001b[1;32mIn [66]\u001b[0m, in \u001b[0;36mfibonacci\u001b[1;34m(n)\u001b[0m\n\u001b[0;32m      4\u001b[0m \u001b[38;5;28;01mif\u001b[39;00m n \u001b[38;5;241m==\u001b[39m \u001b[38;5;241m2\u001b[39m:\n\u001b[0;32m      5\u001b[0m     \u001b[38;5;28;01mreturn\u001b[39;00m \u001b[38;5;241m1\u001b[39m\n\u001b[1;32m----> 6\u001b[0m \u001b[38;5;28;01mreturn\u001b[39;00m \u001b[43mfibonacci\u001b[49m\u001b[43m(\u001b[49m\u001b[43mn\u001b[49m\u001b[43m \u001b[49m\u001b[38;5;241;43m-\u001b[39;49m\u001b[43m \u001b[49m\u001b[38;5;241;43m2\u001b[39;49m\u001b[43m)\u001b[49m\u001b[43m \u001b[49m\u001b[38;5;241;43m+\u001b[39;49m\u001b[43m \u001b[49m\u001b[43mfibonacci\u001b[49m\u001b[43m(\u001b[49m\u001b[43mn\u001b[49m\u001b[43m \u001b[49m\u001b[38;5;241;43m-\u001b[39;49m\u001b[43m \u001b[49m\u001b[38;5;241;43m1\u001b[39;49m\u001b[43m)\u001b[49m\n",
      "\u001b[1;31mKeyboardInterrupt\u001b[0m: "
     ]
    }
   ],
   "source": [
    "print(fibonacci(50))"
   ]
  },
  {
   "cell_type": "code",
   "execution_count": 71,
   "id": "a068bb2b",
   "metadata": {},
   "outputs": [],
   "source": [
    "def barnyard(heads, legs):\n",
    "    for chicken in range(0, heads + 1):\n",
    "        rabbits = heads - chicken\n",
    "        if 2 * chicken + 4 * rabbits == legs:\n",
    "            return chicken, rabbits"
   ]
  },
  {
   "cell_type": "code",
   "execution_count": 72,
   "id": "d40c9ff7",
   "metadata": {},
   "outputs": [
    {
     "name": "stdout",
     "output_type": "stream",
     "text": [
      "(32, 16)\n"
     ]
    }
   ],
   "source": [
    "print(barnyard(48, 128))"
   ]
  },
  {
   "cell_type": "code",
   "execution_count": 86,
   "id": "2b0cbbc8",
   "metadata": {},
   "outputs": [],
   "source": [
    "def fib():\n",
    "    a, b = 0, 1\n",
    "    while True:\n",
    "        yield a\n",
    "        a, b = b, a + b"
   ]
  },
  {
   "cell_type": "code",
   "execution_count": 87,
   "id": "01feb4dc",
   "metadata": {},
   "outputs": [
    {
     "name": "stdout",
     "output_type": "stream",
     "text": [
      "<generator object fib at 0x000001DC492AF120>\n"
     ]
    }
   ],
   "source": [
    "gen = fib()\n",
    "print(gen)"
   ]
  },
  {
   "cell_type": "code",
   "execution_count": 89,
   "id": "c820025c",
   "metadata": {},
   "outputs": [
    {
     "name": "stdout",
     "output_type": "stream",
     "text": [
      "1\n",
      "1\n",
      "2\n",
      "3\n",
      "5\n",
      "8\n",
      "13\n",
      "21\n",
      "34\n",
      "55\n",
      "89\n",
      "144\n",
      "233\n",
      "377\n",
      "610\n",
      "987\n",
      "1597\n",
      "2584\n",
      "4181\n",
      "6765\n",
      "10946\n",
      "17711\n",
      "28657\n",
      "46368\n",
      "75025\n",
      "121393\n",
      "196418\n",
      "317811\n",
      "514229\n",
      "832040\n",
      "1346269\n",
      "2178309\n",
      "3524578\n",
      "5702887\n",
      "9227465\n",
      "14930352\n",
      "24157817\n",
      "39088169\n",
      "63245986\n",
      "102334155\n",
      "165580141\n",
      "267914296\n",
      "433494437\n",
      "701408733\n",
      "1134903170\n",
      "1836311903\n",
      "2971215073\n",
      "4807526976\n",
      "7778742049\n",
      "12586269025\n",
      "20365011074\n",
      "32951280099\n",
      "53316291173\n",
      "86267571272\n",
      "139583862445\n",
      "225851433717\n",
      "365435296162\n",
      "591286729879\n",
      "956722026041\n",
      "1548008755920\n",
      "2504730781961\n",
      "4052739537881\n",
      "6557470319842\n",
      "10610209857723\n",
      "17167680177565\n",
      "27777890035288\n",
      "44945570212853\n",
      "72723460248141\n",
      "117669030460994\n",
      "190392490709135\n",
      "308061521170129\n",
      "498454011879264\n",
      "806515533049393\n",
      "1304969544928657\n",
      "2111485077978050\n",
      "3416454622906707\n",
      "5527939700884757\n",
      "8944394323791464\n",
      "14472334024676221\n",
      "23416728348467685\n",
      "37889062373143906\n",
      "61305790721611591\n",
      "99194853094755497\n",
      "160500643816367088\n",
      "259695496911122585\n",
      "420196140727489673\n",
      "679891637638612258\n",
      "1100087778366101931\n",
      "1779979416004714189\n",
      "2880067194370816120\n",
      "4660046610375530309\n",
      "7540113804746346429\n",
      "12200160415121876738\n",
      "19740274219868223167\n",
      "31940434634990099905\n",
      "51680708854858323072\n",
      "83621143489848422977\n",
      "135301852344706746049\n",
      "218922995834555169026\n",
      "354224848179261915075\n"
     ]
    }
   ],
   "source": [
    "for _ in range(100):\n",
    "    print(next(gen))"
   ]
  },
  {
   "cell_type": "code",
   "execution_count": 91,
   "id": "6ac7fa52",
   "metadata": {},
   "outputs": [
    {
     "name": "stdout",
     "output_type": "stream",
     "text": [
      "[4, 6, 8, 12]\n"
     ]
    }
   ],
   "source": [
    "my_list = [1, 5, 4, 6, 8, 11, 3, 12]\n",
    "new_list = list(filter(lambda x: (x % 2 == 0), my_list))\n",
    "print(new_list)"
   ]
  },
  {
   "cell_type": "code",
   "execution_count": 92,
   "id": "44e25ffc",
   "metadata": {},
   "outputs": [
    {
     "name": "stdout",
     "output_type": "stream",
     "text": [
      "['id0', 'id24', 'id3', 'id30', 'id52']\n",
      "['id0', 'id3', 'id24', 'id30', 'id52']\n"
     ]
    }
   ],
   "source": [
    "my_list = [\"id0\", \"id3\", \"id30\", \"id24\", \"id52\"]\n",
    "print(sorted(my_list))\n",
    "print(sorted(my_list, key=lambda x: int(x[2:])))"
   ]
  },
  {
   "cell_type": "code",
   "execution_count": 95,
   "id": "011f49ad",
   "metadata": {},
   "outputs": [
    {
     "name": "stdout",
     "output_type": "stream",
     "text": [
      "[{'name': 'D A', 'age': 32}, {'name': 'A B', 'age': 24}, {'name': 'A G', 'age': 23}, {'name': 'C H', 'age': 17}]\n",
      "[{'name': 'C H', 'age': 17}, {'name': 'A G', 'age': 23}, {'name': 'A B', 'age': 24}, {'name': 'D A', 'age': 32}]\n"
     ]
    }
   ],
   "source": [
    "my_list = [\n",
    "    {\n",
    "        \"name\": \"A B\",\n",
    "        \"age\": 24\n",
    "    },\n",
    "    {\n",
    "        \"name\": \"D A\",\n",
    "        \"age\": 32\n",
    "    },\n",
    "    {\n",
    "        \"name\": \"C H\",\n",
    "        \"age\": 17\n",
    "    },\n",
    "    {\n",
    "        \"name\": \"A G\",\n",
    "        \"age\": 23\n",
    "    }\n",
    "]\n",
    "\n",
    "print(sorted(my_list, key=lambda x: x[\"name\"].split()[1]))\n",
    "print(sorted(my_list, key=lambda x: x[\"age\"]))"
   ]
  },
  {
   "cell_type": "code",
   "execution_count": null,
   "id": "124727dc",
   "metadata": {},
   "outputs": [],
   "source": []
  }
 ],
 "metadata": {
  "kernelspec": {
   "display_name": "Python 3 (ipykernel)",
   "language": "python",
   "name": "python3"
  },
  "language_info": {
   "codemirror_mode": {
    "name": "ipython",
    "version": 3
   },
   "file_extension": ".py",
   "mimetype": "text/x-python",
   "name": "python",
   "nbconvert_exporter": "python",
   "pygments_lexer": "ipython3",
   "version": "3.9.12"
  }
 },
 "nbformat": 4,
 "nbformat_minor": 5
}
